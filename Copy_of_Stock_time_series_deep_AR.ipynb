{
  "nbformat": 4,
  "nbformat_minor": 0,
  "metadata": {
    "kernelspec": {
      "display_name": "Python 3",
      "language": "python",
      "name": "python3"
    },
    "language_info": {
      "codemirror_mode": {
        "name": "ipython",
        "version": 3
      },
      "file_extension": ".py",
      "mimetype": "text/x-python",
      "name": "python",
      "nbconvert_exporter": "python",
      "pygments_lexer": "ipython3",
      "version": "3.7.3"
    },
    "colab": {
      "name": "Copy of Stock time-series-deep-AR.ipynb",
      "provenance": [],
      "collapsed_sections": [],
      "toc_visible": true,
      "include_colab_link": true
    }
  },
  "cells": [
    {
      "cell_type": "markdown",
      "metadata": {
        "id": "view-in-github",
        "colab_type": "text"
      },
      "source": [
        "<a href=\"https://colab.research.google.com/github/OneRealUni/Stock-Value-Prediction/blob/master/Copy_of_Stock_time_series_deep_AR.ipynb\" target=\"_parent\"><img src=\"https://colab.research.google.com/assets/colab-badge.svg\" alt=\"Open In Colab\"/></a>"
      ]
    },
    {
      "cell_type": "markdown",
      "metadata": {
        "id": "FFeuSvyOBHqQ",
        "colab_type": "text"
      },
      "source": [
        "# Stock Value Prediction Exercise in SageMaker using DeepAR\n",
        "This small project works with data extracted from Yahoo Finance"
      ]
    },
    {
      "cell_type": "code",
      "metadata": {
        "id": "8lT3TRd1LeXG",
        "colab_type": "code",
        "colab": {}
      },
      "source": [
        "import pandas as pd\n",
        "import numpy as np\n",
        "import json\n",
        "import matplotlib.pyplot as plt"
      ],
      "execution_count": 1,
      "outputs": []
    },
    {
      "cell_type": "code",
      "metadata": {
        "id": "4eBUdMcb118A",
        "colab_type": "code",
        "colab": {
          "base_uri": "https://localhost:8080/",
          "height": 122
        },
        "outputId": "224ce390-7139-4368-e258-97d1771c65a4"
      },
      "source": [
        "from google.colab import drive\n",
        "drive.mount('/content/drive')"
      ],
      "execution_count": 2,
      "outputs": [
        {
          "output_type": "stream",
          "text": [
            "Go to this URL in a browser: https://accounts.google.com/o/oauth2/auth?client_id=947318989803-6bn6qk8qdgf4n4g3pfee6491hc0brc4i.apps.googleusercontent.com&redirect_uri=urn%3aietf%3awg%3aoauth%3a2.0%3aoob&response_type=code&scope=email%20https%3a%2f%2fwww.googleapis.com%2fauth%2fdocs.test%20https%3a%2f%2fwww.googleapis.com%2fauth%2fdrive%20https%3a%2f%2fwww.googleapis.com%2fauth%2fdrive.photos.readonly%20https%3a%2f%2fwww.googleapis.com%2fauth%2fpeopleapi.readonly\n",
            "\n",
            "Enter your authorization code:\n",
            "··········\n",
            "Mounted at /content/drive\n"
          ],
          "name": "stdout"
        }
      ]
    },
    {
      "cell_type": "markdown",
      "metadata": {
        "id": "cesTiCsNCuFG",
        "colab_type": "text"
      },
      "source": [
        "# Loading the CSV file"
      ]
    },
    {
      "cell_type": "code",
      "metadata": {
        "id": "PJ0UlBNWLeXY",
        "colab_type": "code",
        "colab": {
          "base_uri": "https://localhost:8080/",
          "height": 204
        },
        "outputId": "aef27633-9d2c-476c-8de2-0302436e69d8"
      },
      "source": [
        "# dataset: https://archive.ics.uci.edu/ml/datasets/ElectricityLoadDiagrams20112014\n",
        "# data = pd.read_csv('/content/drive/My Drive/AICamp/DL/TimeSeries/Data/GOOG.csv', sep=\";\", index_col=0, parse_dates=True, decimal=',')\n",
        "# num_timeseries = data.shape[1]\n",
        "df = pd.read_csv('/content/drive/My Drive/AICamp/DL/TimeSeries/Data/GOOG.csv')\n",
        "df.head()"
      ],
      "execution_count": 3,
      "outputs": [
        {
          "output_type": "execute_result",
          "data": {
            "text/html": [
              "<div>\n",
              "<style scoped>\n",
              "    .dataframe tbody tr th:only-of-type {\n",
              "        vertical-align: middle;\n",
              "    }\n",
              "\n",
              "    .dataframe tbody tr th {\n",
              "        vertical-align: top;\n",
              "    }\n",
              "\n",
              "    .dataframe thead th {\n",
              "        text-align: right;\n",
              "    }\n",
              "</style>\n",
              "<table border=\"1\" class=\"dataframe\">\n",
              "  <thead>\n",
              "    <tr style=\"text-align: right;\">\n",
              "      <th></th>\n",
              "      <th>Date</th>\n",
              "      <th>Open</th>\n",
              "      <th>High</th>\n",
              "      <th>Low</th>\n",
              "      <th>Close</th>\n",
              "      <th>Adj Close</th>\n",
              "      <th>Volume</th>\n",
              "    </tr>\n",
              "  </thead>\n",
              "  <tbody>\n",
              "    <tr>\n",
              "      <th>0</th>\n",
              "      <td>2010-01-13</td>\n",
              "      <td>287.168610</td>\n",
              "      <td>293.091431</td>\n",
              "      <td>285.878448</td>\n",
              "      <td>292.448822</td>\n",
              "      <td>292.448822</td>\n",
              "      <td>13041800</td>\n",
              "    </tr>\n",
              "    <tr>\n",
              "      <th>1</th>\n",
              "      <td>2010-01-14</td>\n",
              "      <td>290.859772</td>\n",
              "      <td>295.990540</td>\n",
              "      <td>290.316833</td>\n",
              "      <td>293.823669</td>\n",
              "      <td>293.823669</td>\n",
              "      <td>8511900</td>\n",
              "    </tr>\n",
              "    <tr>\n",
              "      <th>2</th>\n",
              "      <td>2010-01-15</td>\n",
              "      <td>295.562164</td>\n",
              "      <td>295.671753</td>\n",
              "      <td>287.940735</td>\n",
              "      <td>288.917053</td>\n",
              "      <td>288.917053</td>\n",
              "      <td>10909600</td>\n",
              "    </tr>\n",
              "    <tr>\n",
              "      <th>3</th>\n",
              "      <td>2010-01-19</td>\n",
              "      <td>289.514832</td>\n",
              "      <td>294.107605</td>\n",
              "      <td>287.069000</td>\n",
              "      <td>292.712830</td>\n",
              "      <td>292.712830</td>\n",
              "      <td>8665700</td>\n",
              "    </tr>\n",
              "    <tr>\n",
              "      <th>4</th>\n",
              "      <td>2010-01-20</td>\n",
              "      <td>291.895905</td>\n",
              "      <td>291.895905</td>\n",
              "      <td>286.570862</td>\n",
              "      <td>289.121307</td>\n",
              "      <td>289.121307</td>\n",
              "      <td>6525700</td>\n",
              "    </tr>\n",
              "  </tbody>\n",
              "</table>\n",
              "</div>"
            ],
            "text/plain": [
              "         Date        Open        High  ...       Close   Adj Close    Volume\n",
              "0  2010-01-13  287.168610  293.091431  ...  292.448822  292.448822  13041800\n",
              "1  2010-01-14  290.859772  295.990540  ...  293.823669  293.823669   8511900\n",
              "2  2010-01-15  295.562164  295.671753  ...  288.917053  288.917053  10909600\n",
              "3  2010-01-19  289.514832  294.107605  ...  292.712830  292.712830   8665700\n",
              "4  2010-01-20  291.895905  291.895905  ...  289.121307  289.121307   6525700\n",
              "\n",
              "[5 rows x 7 columns]"
            ]
          },
          "metadata": {
            "tags": []
          },
          "execution_count": 3
        }
      ]
    },
    {
      "cell_type": "code",
      "metadata": {
        "id": "QJKCicG94qEf",
        "colab_type": "code",
        "colab": {
          "base_uri": "https://localhost:8080/",
          "height": 204
        },
        "outputId": "160206fd-a230-407a-e482-45df5efc51da"
      },
      "source": [
        "df.tail()"
      ],
      "execution_count": 6,
      "outputs": [
        {
          "output_type": "execute_result",
          "data": {
            "text/html": [
              "<div>\n",
              "<style scoped>\n",
              "    .dataframe tbody tr th:only-of-type {\n",
              "        vertical-align: middle;\n",
              "    }\n",
              "\n",
              "    .dataframe tbody tr th {\n",
              "        vertical-align: top;\n",
              "    }\n",
              "\n",
              "    .dataframe thead th {\n",
              "        text-align: right;\n",
              "    }\n",
              "</style>\n",
              "<table border=\"1\" class=\"dataframe\">\n",
              "  <thead>\n",
              "    <tr style=\"text-align: right;\">\n",
              "      <th></th>\n",
              "      <th>Date</th>\n",
              "      <th>Open</th>\n",
              "      <th>High</th>\n",
              "      <th>Low</th>\n",
              "      <th>Close</th>\n",
              "      <th>Adj Close</th>\n",
              "      <th>Volume</th>\n",
              "    </tr>\n",
              "  </thead>\n",
              "  <tbody>\n",
              "    <tr>\n",
              "      <th>2636</th>\n",
              "      <td>2020-07-06</td>\n",
              "      <td>1480.060059</td>\n",
              "      <td>1506.589966</td>\n",
              "      <td>1472.859985</td>\n",
              "      <td>1495.699951</td>\n",
              "      <td>1495.699951</td>\n",
              "      <td>1564000</td>\n",
              "    </tr>\n",
              "    <tr>\n",
              "      <th>2637</th>\n",
              "      <td>2020-07-07</td>\n",
              "      <td>1490.000000</td>\n",
              "      <td>1516.800049</td>\n",
              "      <td>1483.550049</td>\n",
              "      <td>1485.180054</td>\n",
              "      <td>1485.180054</td>\n",
              "      <td>1458200</td>\n",
              "    </tr>\n",
              "    <tr>\n",
              "      <th>2638</th>\n",
              "      <td>2020-07-08</td>\n",
              "      <td>1494.319946</td>\n",
              "      <td>1505.880005</td>\n",
              "      <td>1485.630005</td>\n",
              "      <td>1496.000000</td>\n",
              "      <td>1496.000000</td>\n",
              "      <td>1249700</td>\n",
              "    </tr>\n",
              "    <tr>\n",
              "      <th>2639</th>\n",
              "      <td>2020-07-09</td>\n",
              "      <td>1506.449951</td>\n",
              "      <td>1522.719971</td>\n",
              "      <td>1488.084961</td>\n",
              "      <td>1510.989990</td>\n",
              "      <td>1510.989990</td>\n",
              "      <td>1423300</td>\n",
              "    </tr>\n",
              "    <tr>\n",
              "      <th>2640</th>\n",
              "      <td>2020-07-10</td>\n",
              "      <td>1506.150024</td>\n",
              "      <td>1543.829956</td>\n",
              "      <td>1496.540039</td>\n",
              "      <td>1541.739990</td>\n",
              "      <td>1541.739990</td>\n",
              "      <td>1856300</td>\n",
              "    </tr>\n",
              "  </tbody>\n",
              "</table>\n",
              "</div>"
            ],
            "text/plain": [
              "            Date         Open         High  ...        Close    Adj Close   Volume\n",
              "2636  2020-07-06  1480.060059  1506.589966  ...  1495.699951  1495.699951  1564000\n",
              "2637  2020-07-07  1490.000000  1516.800049  ...  1485.180054  1485.180054  1458200\n",
              "2638  2020-07-08  1494.319946  1505.880005  ...  1496.000000  1496.000000  1249700\n",
              "2639  2020-07-09  1506.449951  1522.719971  ...  1510.989990  1510.989990  1423300\n",
              "2640  2020-07-10  1506.150024  1543.829956  ...  1541.739990  1541.739990  1856300\n",
              "\n",
              "[5 rows x 7 columns]"
            ]
          },
          "metadata": {
            "tags": []
          },
          "execution_count": 6
        }
      ]
    },
    {
      "cell_type": "code",
      "metadata": {
        "id": "vidMB4K9nj3P",
        "colab_type": "code",
        "colab": {
          "base_uri": "https://localhost:8080/",
          "height": 34
        },
        "outputId": "cb1f8999-aeb4-4da9-db58-8b2541b71695"
      },
      "source": [
        "len(df)"
      ],
      "execution_count": 5,
      "outputs": [
        {
          "output_type": "execute_result",
          "data": {
            "text/plain": [
              "2641"
            ]
          },
          "metadata": {
            "tags": []
          },
          "execution_count": 5
        }
      ]
    },
    {
      "cell_type": "markdown",
      "metadata": {
        "id": "v3wbtUqRC6Uz",
        "colab_type": "text"
      },
      "source": [
        "# Data Visualisation"
      ]
    },
    {
      "cell_type": "code",
      "metadata": {
        "id": "MMFlKiF3WDSQ",
        "colab_type": "code",
        "colab": {
          "base_uri": "https://localhost:8080/",
          "height": 501
        },
        "outputId": "2487a622-2286-4495-806c-8fb279ea8522"
      },
      "source": [
        "#setting index as date\n",
        "df['Date'] = pd.to_datetime(df.Date,format='%Y-%m-%d')\n",
        "df.index = df['Date']\n",
        "\n",
        "#plot\n",
        "plt.figure(figsize=(16,8))\n",
        "plt.plot(df['Close'], label='Close Price history')"
      ],
      "execution_count": 7,
      "outputs": [
        {
          "output_type": "execute_result",
          "data": {
            "text/plain": [
              "[<matplotlib.lines.Line2D at 0x7f011cf41f98>]"
            ]
          },
          "metadata": {
            "tags": []
          },
          "execution_count": 7
        },
        {
          "output_type": "display_data",
          "data": {
            "image/png": "[encoded data removed]",
            "text/plain": [
              "<Figure size 1152x576 with 1 Axes>"
            ]
          },
          "metadata": {
            "tags": [],
            "needs_background": "light"
          }
        }
      ]
    },
    {
      "cell_type": "markdown",
      "metadata": {
        "id": "SqtZZu8RDCJh",
        "colab_type": "text"
      },
      "source": [
        "# Selecting of Required Data"
      ]
    },
    {
      "cell_type": "code",
      "metadata": {
        "id": "5_CdUaVG6wN3",
        "colab_type": "code",
        "colab": {
          "base_uri": "https://localhost:8080/",
          "height": 204
        },
        "outputId": "e93f0bde-a01e-444b-be54-40aa6a963f1e"
      },
      "source": [
        "#creating dataframe\n",
        "data = df.sort_index(ascending=True, axis=0)\n",
        "new_data = pd.DataFrame(index=range(0,len(df)),columns=['Date', 'Close'])\n",
        "for i in range(0,len(data)):\n",
        "    new_data['Date'][i] = data['Date'][i]\n",
        "    new_data['Close'][i] = data['Close'][i]\n",
        "new_data.head()"
      ],
      "execution_count": 8,
      "outputs": [
        {
          "output_type": "execute_result",
          "data": {
            "text/html": [
              "<div>\n",
              "<style scoped>\n",
              "    .dataframe tbody tr th:only-of-type {\n",
              "        vertical-align: middle;\n",
              "    }\n",
              "\n",
              "    .dataframe tbody tr th {\n",
              "        vertical-align: top;\n",
              "    }\n",
              "\n",
              "    .dataframe thead th {\n",
              "        text-align: right;\n",
              "    }\n",
              "</style>\n",
              "<table border=\"1\" class=\"dataframe\">\n",
              "  <thead>\n",
              "    <tr style=\"text-align: right;\">\n",
              "      <th></th>\n",
              "      <th>Date</th>\n",
              "      <th>Close</th>\n",
              "    </tr>\n",
              "  </thead>\n",
              "  <tbody>\n",
              "    <tr>\n",
              "      <th>0</th>\n",
              "      <td>2010-01-13 00:00:00</td>\n",
              "      <td>292.449</td>\n",
              "    </tr>\n",
              "    <tr>\n",
              "      <th>1</th>\n",
              "      <td>2010-01-14 00:00:00</td>\n",
              "      <td>293.824</td>\n",
              "    </tr>\n",
              "    <tr>\n",
              "      <th>2</th>\n",
              "      <td>2010-01-15 00:00:00</td>\n",
              "      <td>288.917</td>\n",
              "    </tr>\n",
              "    <tr>\n",
              "      <th>3</th>\n",
              "      <td>2010-01-19 00:00:00</td>\n",
              "      <td>292.713</td>\n",
              "    </tr>\n",
              "    <tr>\n",
              "      <th>4</th>\n",
              "      <td>2010-01-20 00:00:00</td>\n",
              "      <td>289.121</td>\n",
              "    </tr>\n",
              "  </tbody>\n",
              "</table>\n",
              "</div>"
            ],
            "text/plain": [
              "                  Date    Close\n",
              "0  2010-01-13 00:00:00  292.449\n",
              "1  2010-01-14 00:00:00  293.824\n",
              "2  2010-01-15 00:00:00  288.917\n",
              "3  2010-01-19 00:00:00  292.713\n",
              "4  2010-01-20 00:00:00  289.121"
            ]
          },
          "metadata": {
            "tags": []
          },
          "execution_count": 8
        }
      ]
    },
    {
      "cell_type": "code",
      "metadata": {
        "id": "o8snLzk3nsKd",
        "colab_type": "code",
        "colab": {
          "base_uri": "https://localhost:8080/",
          "height": 204
        },
        "outputId": "34317535-62b1-452c-81b1-eafc8a386c7f"
      },
      "source": [
        "new_data.tail()"
      ],
      "execution_count": 9,
      "outputs": [
        {
          "output_type": "execute_result",
          "data": {
            "text/html": [
              "<div>\n",
              "<style scoped>\n",
              "    .dataframe tbody tr th:only-of-type {\n",
              "        vertical-align: middle;\n",
              "    }\n",
              "\n",
              "    .dataframe tbody tr th {\n",
              "        vertical-align: top;\n",
              "    }\n",
              "\n",
              "    .dataframe thead th {\n",
              "        text-align: right;\n",
              "    }\n",
              "</style>\n",
              "<table border=\"1\" class=\"dataframe\">\n",
              "  <thead>\n",
              "    <tr style=\"text-align: right;\">\n",
              "      <th></th>\n",
              "      <th>Date</th>\n",
              "      <th>Close</th>\n",
              "    </tr>\n",
              "  </thead>\n",
              "  <tbody>\n",
              "    <tr>\n",
              "      <th>2636</th>\n",
              "      <td>2020-07-06 00:00:00</td>\n",
              "      <td>1495.7</td>\n",
              "    </tr>\n",
              "    <tr>\n",
              "      <th>2637</th>\n",
              "      <td>2020-07-07 00:00:00</td>\n",
              "      <td>1485.18</td>\n",
              "    </tr>\n",
              "    <tr>\n",
              "      <th>2638</th>\n",
              "      <td>2020-07-08 00:00:00</td>\n",
              "      <td>1496</td>\n",
              "    </tr>\n",
              "    <tr>\n",
              "      <th>2639</th>\n",
              "      <td>2020-07-09 00:00:00</td>\n",
              "      <td>1510.99</td>\n",
              "    </tr>\n",
              "    <tr>\n",
              "      <th>2640</th>\n",
              "      <td>2020-07-10 00:00:00</td>\n",
              "      <td>1541.74</td>\n",
              "    </tr>\n",
              "  </tbody>\n",
              "</table>\n",
              "</div>"
            ],
            "text/plain": [
              "                     Date    Close\n",
              "2636  2020-07-06 00:00:00   1495.7\n",
              "2637  2020-07-07 00:00:00  1485.18\n",
              "2638  2020-07-08 00:00:00     1496\n",
              "2639  2020-07-09 00:00:00  1510.99\n",
              "2640  2020-07-10 00:00:00  1541.74"
            ]
          },
          "metadata": {
            "tags": []
          },
          "execution_count": 9
        }
      ]
    },
    {
      "cell_type": "code",
      "metadata": {
        "id": "05LJcJWz98i1",
        "colab_type": "code",
        "colab": {
          "base_uri": "https://localhost:8080/",
          "height": 34
        },
        "outputId": "49ee82f4-5af3-4d7f-8071-a98b0ed8dd14"
      },
      "source": [
        "len(new_data)"
      ],
      "execution_count": 10,
      "outputs": [
        {
          "output_type": "execute_result",
          "data": {
            "text/plain": [
              "2641"
            ]
          },
          "metadata": {
            "tags": []
          },
          "execution_count": 10
        }
      ]
    },
    {
      "cell_type": "markdown",
      "metadata": {
        "id": "CWlFLK86DYiP",
        "colab_type": "text"
      },
      "source": [
        "# Spliting the Training Data "
      ]
    },
    {
      "cell_type": "code",
      "metadata": {
        "id": "KSL_RgZgOH6I",
        "colab_type": "code",
        "colab": {
          "base_uri": "https://localhost:8080/",
          "height": 204
        },
        "outputId": "b48d59c2-37ad-4ad2-b03e-b635b9b022db"
      },
      "source": [
        "#creating dataframe\n",
        "train_data = pd.DataFrame(index=range(0,2000),columns=['Date', 'Close'])\n",
        "for i in range(0,2000):\n",
        "    train_data['Date'][i] = new_data['Date'][i]\n",
        "    train_data['Close'][i] = new_data['Close'][i]\n",
        "train_data.tail()\n"
      ],
      "execution_count": 11,
      "outputs": [
        {
          "output_type": "execute_result",
          "data": {
            "text/html": [
              "<div>\n",
              "<style scoped>\n",
              "    .dataframe tbody tr th:only-of-type {\n",
              "        vertical-align: middle;\n",
              "    }\n",
              "\n",
              "    .dataframe tbody tr th {\n",
              "        vertical-align: top;\n",
              "    }\n",
              "\n",
              "    .dataframe thead th {\n",
              "        text-align: right;\n",
              "    }\n",
              "</style>\n",
              "<table border=\"1\" class=\"dataframe\">\n",
              "  <thead>\n",
              "    <tr style=\"text-align: right;\">\n",
              "      <th></th>\n",
              "      <th>Date</th>\n",
              "      <th>Close</th>\n",
              "    </tr>\n",
              "  </thead>\n",
              "  <tbody>\n",
              "    <tr>\n",
              "      <th>1995</th>\n",
              "      <td>2017-12-14 00:00:00</td>\n",
              "      <td>1049.15</td>\n",
              "    </tr>\n",
              "    <tr>\n",
              "      <th>1996</th>\n",
              "      <td>2017-12-15 00:00:00</td>\n",
              "      <td>1064.19</td>\n",
              "    </tr>\n",
              "    <tr>\n",
              "      <th>1997</th>\n",
              "      <td>2017-12-18 00:00:00</td>\n",
              "      <td>1077.14</td>\n",
              "    </tr>\n",
              "    <tr>\n",
              "      <th>1998</th>\n",
              "      <td>2017-12-19 00:00:00</td>\n",
              "      <td>1070.68</td>\n",
              "    </tr>\n",
              "    <tr>\n",
              "      <th>1999</th>\n",
              "      <td>2017-12-20 00:00:00</td>\n",
              "      <td>1064.95</td>\n",
              "    </tr>\n",
              "  </tbody>\n",
              "</table>\n",
              "</div>"
            ],
            "text/plain": [
              "                     Date    Close\n",
              "1995  2017-12-14 00:00:00  1049.15\n",
              "1996  2017-12-15 00:00:00  1064.19\n",
              "1997  2017-12-18 00:00:00  1077.14\n",
              "1998  2017-12-19 00:00:00  1070.68\n",
              "1999  2017-12-20 00:00:00  1064.95"
            ]
          },
          "metadata": {
            "tags": []
          },
          "execution_count": 11
        }
      ]
    },
    {
      "cell_type": "markdown",
      "metadata": {
        "id": "MtT0OYDmDnk7",
        "colab_type": "text"
      },
      "source": [
        "# Spliting the Test Data"
      ]
    },
    {
      "cell_type": "code",
      "metadata": {
        "id": "MljeGSNcXjZo",
        "colab_type": "code",
        "colab": {
          "base_uri": "https://localhost:8080/",
          "height": 204
        },
        "outputId": "fcbc3ae3-865e-4477-8260-bba739075e89"
      },
      "source": [
        "#creating dataframe\n",
        "len_test = len(new_data[2000::])\n",
        "test_data = pd.DataFrame(index=range(0,len_test),columns=['Date', 'Close'])\n",
        "for i in range(0,len_test):\n",
        "    test_data['Date'][i] = new_data['Date'][i+200]\n",
        "    test_data['Close'][i] = new_data['Close'][i+200]\n",
        "test_data.tail()"
      ],
      "execution_count": 12,
      "outputs": [
        {
          "output_type": "execute_result",
          "data": {
            "text/html": [
              "<div>\n",
              "<style scoped>\n",
              "    .dataframe tbody tr th:only-of-type {\n",
              "        vertical-align: middle;\n",
              "    }\n",
              "\n",
              "    .dataframe tbody tr th {\n",
              "        vertical-align: top;\n",
              "    }\n",
              "\n",
              "    .dataframe thead th {\n",
              "        text-align: right;\n",
              "    }\n",
              "</style>\n",
              "<table border=\"1\" class=\"dataframe\">\n",
              "  <thead>\n",
              "    <tr style=\"text-align: right;\">\n",
              "      <th></th>\n",
              "      <th>Date</th>\n",
              "      <th>Close</th>\n",
              "    </tr>\n",
              "  </thead>\n",
              "  <tbody>\n",
              "    <tr>\n",
              "      <th>636</th>\n",
              "      <td>2013-05-10 00:00:00</td>\n",
              "      <td>438.471</td>\n",
              "    </tr>\n",
              "    <tr>\n",
              "      <th>637</th>\n",
              "      <td>2013-05-13 00:00:00</td>\n",
              "      <td>437.127</td>\n",
              "    </tr>\n",
              "    <tr>\n",
              "      <th>638</th>\n",
              "      <td>2013-05-14 00:00:00</td>\n",
              "      <td>441.894</td>\n",
              "    </tr>\n",
              "    <tr>\n",
              "      <th>639</th>\n",
              "      <td>2013-05-15 00:00:00</td>\n",
              "      <td>456.235</td>\n",
              "    </tr>\n",
              "    <tr>\n",
              "      <th>640</th>\n",
              "      <td>2013-05-16 00:00:00</td>\n",
              "      <td>450.247</td>\n",
              "    </tr>\n",
              "  </tbody>\n",
              "</table>\n",
              "</div>"
            ],
            "text/plain": [
              "                    Date    Close\n",
              "636  2013-05-10 00:00:00  438.471\n",
              "637  2013-05-13 00:00:00  437.127\n",
              "638  2013-05-14 00:00:00  441.894\n",
              "639  2013-05-15 00:00:00  456.235\n",
              "640  2013-05-16 00:00:00  450.247"
            ]
          },
          "metadata": {
            "tags": []
          },
          "execution_count": 12
        }
      ]
    },
    {
      "cell_type": "code",
      "metadata": {
        "id": "cQkojFY9EJyW",
        "colab_type": "code",
        "colab": {}
      },
      "source": [
        "training_data = [\n",
        "    {\n",
        "        \"start\": str(start_dataset),\n",
        "        \"target\": train_data['Close'].tolist()\n",
        "    }\n",
        "]"
      ],
      "execution_count": 14,
      "outputs": []
    },
    {
      "cell_type": "code",
      "metadata": {
        "id": "nrhGSD-qkESW",
        "colab_type": "code",
        "colab": {
          "base_uri": "https://localhost:8080/",
          "height": 54
        },
        "outputId": "4511fe25-b646-4089-8166-3ef20d69dd95"
      },
      "source": [
        "print((training_data))"
      ],
      "execution_count": 15,
      "outputs": [
        {
          "output_type": "stream",
          "text": [
            "[{'start': '2019-07-08 00:00:00', 'target': [292.448822, 293.823669, 288.91705299999995, 292.71283, 289.121307, 290.401489, 273.97805800000003, 268.99176, 270.19723500000003, 270.037842, 266.1474, 263.98053, 265.514771, 264.568329, 269.400208, 262.406433, 264.653015, 265.738953, 267.218414, 266.22711200000003, 267.198486, 265.564606, 269.639313, 268.100098, 270.595734, 269.370331, 270.386536, 266.53595, 264.74267599999996, 262.232086, 262.41641200000004, 265.350403, 269.519775, 271.641815, 276.259521, 281.051544, 280.189789, 279.049042, 287.148682, 289.48492400000003, 288.687927, 280.538483, 281.544708, 281.72402999999997, 282.142456, 278.954407, 277.709076, 273.474945, 277.62439, 280.38903799999997, 280.294403, 280.17483500000003, 282.296875, 282.501129, 283.337982, 284.438843, 283.049072, 280.717804, 282.685425, 282.052795, 285.295654, 292.289429, 293.400269, 296.53851299999997, 274.047791, 274.02288799999997, 276.483673, 276.115051, 272.508575, 271.477448, 264.827362, 263.542175, 263.60693399999997, 265.006683, 261.868439, 264.309296, 252.23954799999998, 253.928207, 248.40391499999998, 245.649246, 259.85101299999997, 253.57453900000002, 251.751373, 254.48612999999997, 252.817383, 253.03656, 248.25448599999999, 246.29183999999998, 236.618103, 235.143631, 237.689087, 237.64425699999998, 236.847244, 244.31425499999997, 241.908264, 240.28436299999998, 245.76382400000003, 251.855988, 248.428833, 241.85347000000002, 241.484848, 236.124939, 242.595688, 243.337906, 240.692825, 248.06518599999998, 249.69906600000002, 249.10629300000002, 249.081375, 243.367798, 242.217117, 240.124954, 236.662933, 235.457443, 235.158569, 226.28184500000003, 221.64422599999997, 218.924423, 217.4599, 217.22081, 224.259415, 227.42755099999997, 232.872131, 237.026566, 243.6866, 244.75260899999998, 246.08760099999998, 228.946854, 232.219589, 239.89581299999998, 237.858444, 241.499802, 244.11498999999998, 243.57203700000002, 245.39520299999998, 241.27066000000002, 241.589462, 241.51972999999998, 244.28933700000002, 244.000427, 252.21462999999997, 253.10131800000002, 249.176025, 251.731445, 250.914505, 244.95185899999998, 245.086349, 242.26692200000002, 241.88833599999998, 244.344131, 240.174759, 233.11123700000002, 230.147354, 231.168518, 224.85220299999997, 226.46116600000002, 224.647964, 228.558304, 225.499771, 224.169754, 229.305511, 230.725189, 234.271896, 231.33290099999996, 234.41136200000003, 237.20091200000002, 237.180984, 240.23454300000003, 239.31797799999998, 239.42259199999998, 239.63180499999999, 244.15983599999998, 253.190979, 255.77130099999997, 257.03656, 255.781265, 262.660492, 264.214661, 262.600708, 262.85974100000004, 261.9133, 261.82861299999996, 260.199707, 268.110046, 266.177307, 264.015411, 267.17355299999997, 268.41391, 269.684143, 270.63559, 269.455017, 299.60202000000004, 307.70166, 302.780121, 302.854828, 304.852325, 305.121338, 307.098907, 308.144989, 307.083984, 308.13504, 305.70413199999996, 306.351715, 306.650604, 308.93203700000004, 310.969421, 311.372894, 312.214752, 311.243378, 310.277008, 307.442627, 300.51858500000003, 296.623169, 290.770111, 290.685425, 297.166138, 294.31185899999997, 294.506104, 290.416443, 296.374115, 293.89840699999996, 289.96814, 276.817413, 281.121277, 284.842346, 285.43014500000004, 288.100128, 292.473724, 294.167389, 294.645599, 294.99926800000003, 296.199768, 296.34423799999996, 294.047852, 294.750214, 294.296906, 296.418945, 300.408997, 301.614471, 300.98681600000003, 300.065277, 298.34173599999997, 299.377869, 298.31185899999997, 295.875977, 301.0466, 299.93576, 303.397797, 305.604523, 307.069031, 305.958191, 306.854828, 307.283234, 307.193573, 310.924591, 318.620728, 314.69543500000003, 312.214752, 304.772644, 304.399048, 308.797546, 307.098907, 307.243378, 299.372864, 299.059052, 304.37912, 304.85733, 303.93576, 304.34921299999996, 305.99804700000004, 308.0354, 307.098907, 307.069031, 311.083984, 312.902161, 310.90963700000003, 310.94448900000003, 311.462555, 313.863556, 303.965668, 304.51858500000003, 303.273254, 303.880981, 305.55471800000004, 299.25830099999996, 299.273254, 303.64187599999997, 299.18856800000003, 294.725311, 295.049072, 294.78009, 289.066498, 287.278198, 283.93075600000003, 283.716553, 277.50982700000003, 279.631866, 279.48242200000004, 287.173615, 287.582062, 289.993042, 292.34921299999996, 288.78756699999997, 286.605743, 289.778839, 289.833618, 292.284454, 294.795044, 292.74273700000003, 283.482452, 286.017944, 288.91705299999995, 288.00048799999996, 287.606964, 284.239594, 287.06402599999996, 288.17483500000003, 264.359131, 262.43631, 259.791229, 261.883392, 261.56958, 261.544678, 265.415161, 267.875946, 267.98053, 271.034088, 268.274445, 265.948151, 266.894623, 266.137451, 266.650543, 267.83609, 270.316772, 266.72525, 266.52600099999995, 263.786255, 258.242035, 264.239563, 263.915771, 264.633087, 261.03656, 258.22711200000003, 258.162354, 258.864716, 258.097595, 259.477417, 263.522247, 261.818634, 263.044037, 260.563354, 259.55712900000003, 258.545898, 258.615631, 257.400208, 253.80367999999999, 251.42260699999997, 253.235809, 250.535934, 249.250748, 241.60440099999997, 241.385223, 245.57951400000002, 242.595688, 239.213364, 236.553345, 240.49855, 245.90329, 247.855972, 252.24452200000002, 259.542175, 265.225861, 266.68042, 272.279419, 265.001709, 262.65551800000003, 266.00793500000003, 268.125, 263.482391, 297.694183, 296.359161, 300.149963, 296.563416, 302.361664, 307.960693, 308.33429, 310.097687, 302.476257, 304.329285, 300.717834, 302.252075, 295.09390299999995, 299.462555, 287.68170200000003, 288.438873, 271.990509, 285.634369, 273.479919, 280.015442, 280.832367, 277.574585, 268.493622, 265.579529, 251.49732999999998, 244.543396, 248.15486099999998, 258.441284, 260.667938, 259.049011, 262.44628900000004, 268.533478, 269.340454, 269.469971, 265.255768, 261.440063, 260.115021, 266.017914, 266.481171, 261.445038, 264.07018999999997, 263.771332, 265.041565, 270.266968, 272.319275, 272.314301, 272.294373, 268.59326200000004, 259.35784900000004, 261.773804, 264.951904, 268.66299399999997, 263.432587, 262.765106, 256.55835, 246.834808, 250.012894, 251.407669, 256.393982, 256.598206, 267.58203100000003, 270.575806, 273.225891, 278.451294, 294.73526, 290.117554, 294.152435, 289.26574700000003, 290.745209, 294.142487, 297.096405, 290.49118, 292.060272, 298.217194, 298.949463, 295.21347000000003, 288.244598, 291.318054, 297.63439900000003, 296.95694, 303.029175, 305.026672, 299.35296600000004, 296.428925, 303.039124, 305.355438, 307.128815, 304.593323, 299.31311, 296.329285, 289.385315, 288.91705299999995, 283.99054, 280.448822, 292.996765, 290.37658700000003, 298.575867, 305.739014, 309.021698, 311.65682999999996, 310.72033700000003, 310.531067, 306.874756, 312.538544, 311.527313, 311.646881, 307.880981, 308.613251, 311.81124900000003, 309.753967, 314.008026, 311.741516, 313.674286, 315.387848, 318.92956499999997, 318.65560899999997, 320.00054900000003, 321.744019, 331.462585, 332.892242, 328.274536, 323.79632599999997, 310.06777999999997, 310.406525, 311.81124900000003, 313.644379, 311.32806400000004, 313.11636400000003, 315.273285, 318.590851, 291.90087900000003, 291.666748, 289.380341, 283.68170200000003, 282.989288, 288.907104, 287.766388, 288.971863, 289.33050499999996, 291.46252400000003, 297.051575, 303.40774500000003, 302.252075, 303.786346, 304.588318, 301.8237, 304.95694, 303.741516, 301.64935299999996, 302.127563, 301.191071, 305.85357700000003, 302.8349, 301.92330899999996, 303.81124900000003, 303.517334, 308.040375, 307.970642, 310.037903, 309.465057, 305.978119, 301.350464, 302.267029, 302.436401, 299.004272, 301.445099, 307.736542, 306.844879, 309.405273, 311.35296600000004, 315.80627400000003, 315.56219500000003, 318.795074, 321.818756, 320.095215, 323.452606, 322.301941, 326.65560899999997, 322.994324, 319.422729, 322.252106, 320.110138, 316.38909900000004, 314.97937, 314.24215699999996, 312.259583, 316.792572, 324.28949, 311.13378900000004, 301.903381, 303.64685099999997, 302.59082, 298.531036, 296.917084, 297.684204, 299.51236, 303.721588, 306.585846, 306.341766, 301.295685, 301.086456, 302.496185, 304.369141, 297.370392, 302.640625, 305.250854, 303.43765299999995, 305.684235, 301.48495499999996, 300.872253, 304.413971, 313.29071, 310.361694, 299.078979, 305.908386, 299.278229, 303.59207200000003, 300.702881, 294.660553, 296.060303, 293.01669300000003, 289.345459, 284.42392, 288.214691, 284.13998399999997, 289.200989, 288.03537, 289.141235, 283.188538, 281.494873, 279.497375, 278.481171, 281.200989, 284.359161, 289.67919900000004, 287.676727, 281.549683, 284.672974, 279.30310099999997, 281.285675, 283.587036, 281.101349, 288.951935, 289.151184, 292.81744399999997, 296.847351, 291.89590499999997, 291.910858, 289.763885, 284.528503, 284.17483500000003, 287.183563, 286.386566, 287.288177, 289.295654, 295.42266800000004, 304.26953100000003, 306.605774, 302.650604, 302.859802, 305.53479, 316.294464, 314.969421, 315.303162, 315.158722, 313.20105, 319.46756, 320.209778, 319.074036, 319.915863, 319.97564700000004, 319.8013, 328.772675, 333.081543, 332.523621, 335.17868, 337.305695, 336.508698, 333.50494399999997, 337.325623, 337.136322, 338.047913, 333.360474, 337.360504, 342.720398, 339.56723, 341.265839, 339.24841299999997, 339.08902, 348.394135, 351.756531, 349.076569, 344.802582, 344.150055, 351.701721, 353.514954, 353.664368, 357.79888900000003, 362.391663, 362.7005, 365.624542, 373.290802, 373.181213, 375.323212, 376.83752400000003, 375.841248, 379.467651, 377.081604, 379.826324, 382.590942, 382.39169300000003, 377.505005, 370.65570099999997, 370.889801, 374.336884, 370.984467, 369.106506, 370.959564, 376.334412, 346.202362, 339.622009, 338.067841, 338.904694, 337.385406, 337.614532, 336.314423, 338.879791, 342.511169, 342.675568, 340.204834, 339.587158, 332.314392, 324.927094, 330.277039, 331.706696, 328.294464, 325.05661000000003, 322.421478, 322.381622, 332.85736099999997, 333.73407000000003, 331.691742, 332.737823, 329.340546, 334.102692, 340.558502, 344.653168, 347.881042, 346.32687400000003, 344.224762, 342.625763, 344.274567, 340.82748399999997, 341.43023700000003, 347.138824, 347.47757, 350.037964, 349.669342, 359.04422, 359.18866, 358.71047999999996, 359.831268, 356.478821, 353.42526200000003, 353.11145, 351.826263, 348.697998, 352.369232, 360.274597, 360.48382599999997, 367.607117, 366.003143, 365.280823, 367.681824, 369.35556, 368.613342, 360.274597, 361.111481, 356.259644, 354.331879, 350.939606, 350.12265, 369.36554, 375.69680800000003, 375.427795, 373.96328700000004, 375.4328, 375.507507, 376.434021, 386.351868, 378.092804, 381.440277, 383.647003, 385.529938, 391.21862799999997, 389.749115, 388.892334, 389.968292, 392.439056, 394.964569, 401.918518, 394.75036600000004, 396.279633, 398.361847, 393.908539, 393.589722, 398.396698, 399.104065, 401.589752, 409.216156, 417.73422200000005, 414.137695, 414.745422, 414.20745800000003, 415.851288, 412.25973500000003, 411.114044, 409.236084, 405.629608, 402.386749, 404.145172, 405.833832, 404.11526499999997, 403.64205899999996, 403.308289, 404.693115, 399.831329, 395.612152, 399.099091, 405.00195299999996, 401.594727, 396.050507, 390.062958, 385.978271, 387.373016, 393.61462400000005, 393.71923799999996, 393.549866, 389.505035, 395.20367400000003, 389.818878, 381.524963, 398.441528, 398.561096, 402.441559, 405.206177, 403.039307, 399.213654, 408.000702, 410.745422, 408.68316699999997, 413.256012, 421.28094500000003, 429.16638200000006, 427.01443499999993, 435.183838, 434.11282300000005, 438.471497, 437.12655599999994, 441.89367699999997, 456.23492400000003, 450.247375, 452.892456, 452.568665, 451.79156500000005, 443.04934699999995, 439.74673499999994, 435.029388, 438.989563, 432.53375199999994, 433.75418099999996, 433.983337, 432.195038, 427.94595300000003, 428.24484299999995, 430.70559699999995, 438.222443, 443.44784500000003, 438.26229900000004, 434.361908, 436.86251799999997, 435.8862, 441.47027599999996, 448.62841799999995, 448.658325, 440.718079, 438.82019, 433.27099599999997, 431.482697, 435.193787, 436.8974, 438.541229, 442.282227, 439.507629, 441.559937, 445.07675199999994, 450.85507199999995, 450.92981, 451.30340599999994, 458.40179400000005, 459.776642, 460.6185, 458.087982, 457.559967, 453.639648, 446.625946, 453.64959699999997, 450.21249400000005, 449.76415999999995, 442.192566, 441.02194199999997, 439.48770099999996, 443.79653899999994, 442.217468, 450.421722, 451.59231600000004, 450.810242, 446.610992, 443.662048, 444.6633, 443.54247999999995, 441.101654, 438.979584, 433.28094500000003, 428.224915, 426.85504199999997, 431.20870999999994, 431.09414699999996, 433.04184000000004, 435.223663, 433.480225, 431.577332, 423.487671, 422.69064299999997, 426.11779800000005, 421.86874400000005, 428.58355700000004, 434.187561, 438.13775599999997, 438.147705, 442.366913, 442.675751, 446.421692, 444.862549, 442.875, 442.222443, 441.400513, 449.97338899999994, 447.517609, 449.86877400000003, 441.594788, 441.76415999999995, 436.97711200000003, 437.445343, 436.55868499999997, 436.31958, 441.843872, 442.337006, 436.409241, 434.546204, 431.253571, 425.241089, 426.332001, 432.498901, 434.36688200000003, 436.41918899999996, 439.35818499999993, 447.33825700000006, 442.735504, 503.816559, 499.776703, 501.619812, 513.7792360000001, 510.860168, 505.70449800000006, 505.60485800000004, 516.185181, 513.286072, 513.365784, 511.602386, 511.13912999999997, 508.852692, 509.46539299999995, 502.093018, 506.11795, 503.408112, 504.000885, 514.307251, 515.682068, 514.85022, 513.848938, 510.685822, 509.246216, 515.1042480000001, 514.018311, 521.012146, 527.228821, 529.570068, 527.816589, 525.271179, 524.663452, 527.1142580000001, 526.695801, 532.9374389999999, 537.057007, 540.30481, 536.633545, 532.9822389999999, 528.414368, 534.486633, 532.932434, 540.349609, 541.081909, 548.255005, 555.4679570000001, 553.844055, 556.643555, 557.111816, 552.658508, 558.262512, 554.481689, 550.436829, 556.573853, 567.303589, 568.484192, 563.0097049999999, 562.979797, 559.39325, 572.553955, 572.165405, 575.9511719999999, 573.116821, 579.677246, 580.334778, 577.883972, 559.81665, 548.558838, 559.4082030000001, 551.39325, 565.5750730000001, 588.2799679999999, 564.598755, 566.954895, 569.465515, 577.814209, 586.5215450000001, 584.274963, 592.867798, 591.129272, 597.709656, 599.1542360000001, 603.179138, 598.92511, 599.8067629999999, 599.6474, 603.991089, 607.722107, 607.8067629999999, 607.328613, 605.555237, 599.099426, 605.186584, 606.8553469999999, 607.527832, 605.1268309999999, 603.522827, 597.754456, 601.395813, 592.309875, 584.210266, 593.8242190000001, 603.368408, 597.385864, 596.3447269999999, 589.311096, 576.802979, 577.196533, 563.87146, 556.930969, 558.456787, 555.445007, 565.607117, 565.447571, 568.180054, 541.652893, 536.676575, 553.380676, 562.595398, 539.4688719999999, 529.147217, 531.061951, 534.9712519999999, 555.016174, 534.632141, 527.1726679999999, 533.3457030000001, 525.497253, 523.722107, 514.7667240000001, 515.73407, 526.255188, 525.2180179999999, 529.895203, 526.484558, 526.364868, 513.729553, 508.56375099999997, 509.600891, 517.309753, 528.469116, 531.630432, 525.208069, 518.556274, 519.204529, 527.4119870000001, 528.319519, 537.464417, 543.5676269999999, 551.1867070000001, 564.400452, 560.142151, 558.546509, 558.357056, 552.41333, 543.447937, 543.1687009999999, 552.383423, 554.8067629999999, 560.580933, 559.015198, 557.309875, 549.840393, 550.2492679999999, 542.789795, 541.523254, 551.854858, 553.380676, 554.83667, 563.4031980000001, 563.0740969999999, 577.0656740000001, 574.422913, 575.659546, 573.704895, 581.074646, 580.740601, 583.1290280000001, 580.655823, 569.5263669999999, 574.502686, 569.536316, 577.594238, 583.2686160000001, 583.178894, 581.064697, 572.159119, 593.450684, 587.856018, 593.111633, 594.348206, 591.725403, 587.407288, 588.982971, 584.006592, 585.811646, 570.034973, 564.520081, 571.58075, 563.522827, 564.823303, 561.817505, 567.212708, 566.3251339999999, 561.18927, 573.206238, 573.076599, 571.909851, 580.56604, 585.2531740000001, 582.8896480000001, 581.772766, 580.964966, 578.61145, 576.277832, 569.436584, 567.641541, 570.034973, 575.7492679999999, 576.357605, 580.386536, 584.475342, 588.1053469999999, 579.419189, 581.503479, 579.758301, 574.043945, 571.530884, 578.362122, 583.1688839999999, 587.656616, 594.447937, 585.7617799999999, 579.538879, 586.380066, 573.4854740000001, 575.519897, 574.781921, 575.779175, 566.714111, 568.519104, 573.704895, 575.769226, 562.196472, 570.932495, 559.344299, 542.9992070000001, 531.7500610000001, 536.467102, 528.578796, 523.073914, 509.770416, 519.41394, 525.098328, 531.251465, 542.490601, 538.302063, 539.289368, 547.397095, 547.825928, 548.803284, 557.549255, 553.699829, 552.592834, 544.425293, 540.555908, 539.5287480000001, 545.990967, 548.783325, 545.811462, 543.8867799999999, 542.9094240000001, 535.041016, 533.565125, 535.519714, 533.365662, 536.02832, 537.793518, 539.598511, 538.8905030000001, 540.346497, 532.33844, 532.288574, 529.865234, 535.8388669999999, 523.821838, 525.537109, 531.909668, 524.619629, 526.893433, 517.239929, 512.39325, 494.03362999999996, 503.507629, 509.70062300000006, 514.9362179999999, 523.432922, 529.137268, 527.322266, 532.56781, 528.8779910000001, 528.967712, 524.95874, 523.373108, 512.4630129999999, 500.58563200000003, 499.72799699999996, 501.30368, 494.811493, 491.201416, 494.82147199999997, 499.49862699999994, 500.416107, 506.68887300000006, 505.51211500000005, 516.621643, 532.926819, 538.471619, 533.744629, 517.210022, 508.603638, 509.26180999999997, 533.0565190000001, 527.03302, 527.7909549999999, 521.328674, 526.1354980000001, 529.5461429999999, 526.384827, 535.4698490000001, 534.5025019999999, 541.4434809999999, 547.506836, 541.353699, 538.22229, 541.383606, 537.474365, 530.453613, 534.622192, 542.3809200000001, 553.9591059999999, 556.8710940000001, 569.775696, 572.069397, 571.80011, 573.754761, 566.130676, 567.29248, 553.490417, 549.6708980000001, 553.989014, 545.821472, 552.99176, 549.331787, 557.968079, 556.462219, 558.825745, 557.2799679999999, 568.6288450000001, 557.255066, 553.649963, 546.838684, 550.518555, 546.499573, 541.074463, 534.063721, 535.295349, 535.549622, 540.127075, 539.2993769999999, 538.531433, 537.693787, 528.937805, 531.07196, 532.33844, 522.615173, 533.914124, 532.507996, 537.888245, 545.502319, 563.512878, 555.369995, 553.679993, 549.080017, 537.340027, 537.900024, 540.780029, 530.799988, 524.219971, 530.700012, 538.219971, 535.700012, 529.039978, 529.619995, 538.400024, 533.849976, 532.299988, 537.3599849999999, 539.27002, 542.51001, 540.1099849999999, 532.320007, 539.789978, 539.780029, 532.1099849999999, 533.98999, 539.179993, 540.3099980000001, 536.700012, 533.330017, 526.830017, 526.6900019999999, 536.6900019999999, 534.6099849999999, 532.330017, 527.200012, 528.150024, 529.26001, 536.72998, 536.6900019999999, 538.1900019999999, 540.47998, 537.840027, 535.22998, 531.6900019999999, 521.52002, 520.51001, 521.840027, 523.400024, 522.8599849999999, 525.02002, 516.830017, 520.679993, 530.130005, 546.549988, 561.099976, 560.219971, 579.849976, 672.929993, 663.02002, 662.299988, 662.099976, 644.280029, 623.5599980000001, 627.26001, 628.0, 631.929993, 632.590027, 625.6099849999999, 631.210022, 629.25, 643.780029, 642.679993, 635.299988, 633.72998, 660.780029, 659.5599980000001, 656.450012, 657.119995, 660.869995, 656.130005, 660.900024, 646.830017, 612.47998, 589.6099849999999, 582.0599980000001, 628.619995, 637.6099849999999, 630.380005, 618.25, 597.789978, 614.340027, 606.25, 600.700012, 614.659973, 612.719971, 621.349976, 625.77002, 623.23999, 635.1400150000001, 635.97998, 642.900024, 629.25, 635.4400019999999, 622.6900019999999, 622.3599849999999, 625.799988, 611.969971, 594.8900150000001, 594.969971, 608.419983, 611.289978, 626.909973, 641.469971, 645.4400019999999, 642.3599849999999, 639.159973, 643.6099849999999, 646.669983, 652.299988, 651.159973, 661.73999, 662.200012, 666.099976, 650.280029, 642.6099849999999, 651.789978, 702.0, 712.780029, 708.48999, 712.950012, 716.919983, 710.8099980000001, 721.1099849999999, 722.159973, 728.1099849999999, 731.25, 733.76001, 724.8900150000001, 728.320007, 735.400024, 731.22998, 717.0, 728.960022, 725.299988, 740.0, 738.409973, 756.599976, 755.97998, 748.280029, 748.150024, 750.26001, 742.599976, 767.039978, 762.380005, 752.539978, 766.8099980000001, 763.25, 762.369995, 751.6099849999999, 749.460022, 738.869995, 747.77002, 743.400024, 758.090027, 749.429993, 739.3099980000001, 747.77002, 750.0, 750.3099980000001, 748.400024, 762.51001, 776.599976, 771.0, 758.880005, 741.840027, 742.580017, 743.619995, 726.3900150000001, 714.469971, 716.030029, 726.070007, 700.5599980000001, 714.719971, 694.450012, 701.789978, 698.450012, 706.590027, 725.25, 711.669983, 713.039978, 699.98999, 730.960022, 742.950012, 752.0, 764.650024, 726.950012, 708.01001, 683.570007, 682.73999, 678.1099849999999, 684.119995, 683.1099849999999, 682.400024, 691.0, 708.400024, 697.349976, 700.909973, 706.460022, 695.849976, 699.5599980000001, 705.75, 705.070007, 697.77002, 718.8099980000001, 718.849976, 712.419983, 710.8900150000001, 695.159973, 693.969971, 705.23999, 712.820007, 726.820007, 730.48999, 728.330017, 736.090027, 737.780029, 737.599976, 742.090027, 740.75, 738.0599980000001, 735.299988, 733.530029, 744.77002, 750.530029, 744.950012, 749.909973, 745.289978, 737.799988, 745.6900019999999, 740.280029, 739.150024, 736.099976, 743.090027, 751.719971, 753.200012, 759.0, 766.6099849999999, 753.929993, 752.669983, 759.1400150000001, 718.77002, 723.150024, 708.1400150000001, 705.840027, 691.02002, 693.01001, 698.210022, 692.3599849999999, 695.700012, 701.429993, 711.119995, 712.900024, 723.179993, 715.289978, 713.3099980000001, 710.830017, 716.48999, 706.22998, 706.630005, 700.320007, 709.73999, 704.23999, 720.090027, 725.27002, 724.119995, 732.659973, 735.719971, 734.150024, 730.400024, 722.340027, 716.549988, 716.650024, 728.280029, 728.580017, 719.409973, 718.3599849999999, 718.27002, 718.919983, 710.3599849999999, 691.719971, 693.710022, 695.9400019999999, 697.460022, 701.869995, 675.219971, 668.26001, 680.039978, 684.1099849999999, 692.099976, 699.210022, 694.950012, 697.77002, 695.3599849999999, 705.630005, 715.090027, 720.6400150000001, 716.97998, 720.950012, 719.849976, 733.780029, 736.960022, 741.1900019999999, 738.630005, 742.73999, 739.77002, 738.419983, 741.77002, 745.909973, 768.789978, 772.880005, 771.070007, 773.179993, 771.6099849999999, 782.219971, 781.76001, 784.26001, 784.679993, 784.849976, 783.219971, 782.4400019999999, 777.1400150000001, 779.909973, 777.5, 775.419983, 772.150024, 772.080017, 769.6400150000001, 769.409973, 769.539978, 772.150024, 769.090027, 767.049988, 768.780029, 771.460022, 780.080017, 780.349976, 775.320007, 759.659973, 769.02002, 759.6900019999999, 762.48999, 771.76001, 768.880005, 765.700012, 771.409973, 776.219971, 787.210022, 786.900024, 774.210022, 783.01001, 781.5599980000001, 775.01001, 777.289978, 772.5599980000001, 776.429993, 776.469971, 776.8599849999999, 775.080017, 785.9400019999999, 783.070007, 786.1400150000001, 778.1900019999999, 778.530029, 779.960022, 795.26001, 801.5, 796.969971, 799.369995, 813.1099849999999, 807.669983, 799.070007, 795.349976, 795.369995, 784.539978, 783.6099849999999, 768.700012, 762.130005, 762.02002, 782.52002, 790.51001, 785.3099980000001, 762.5599980000001, 754.02002, 736.080017, 758.48999, 764.47998, 771.22998, 760.539978, 769.200012, 768.27002, 760.98999, 761.679993, 768.23999, 770.840027, 758.039978, 747.919983, 750.5, 762.52002, 759.1099849999999, 771.1900019999999, 776.419983, 789.289978, 789.27002, 796.099976, 797.070007, 797.849976, 790.799988, 794.200012, 796.419983, 794.5599980000001, 791.26001, 789.909973, 791.549988, 785.049988, 782.789978, 771.820007, 786.1400150000001, 786.900024, 794.02002, 806.150024, 806.650024, 804.789978, 807.909973, 806.3599849999999, 807.880005, 804.6099849999999, 806.070007, 802.174988, 805.02002, 819.3099980000001, 823.869995, 835.669983, 832.150024, 823.3099980000001, 802.320007, 796.789978, 795.695007, 798.530029, 801.48999, 801.340027, 806.969971, 808.380005, 809.5599980000001, 813.669983, 819.23999, 820.450012, 818.97998, 824.159973, 828.070007, 831.659973, 830.76001, 831.330017, 828.6400150000001, 829.280029, 823.210022, 835.23999, 830.630005, 829.080017, 827.780029, 831.909973, 835.369995, 838.679993, 843.25, 845.5399779999999, 845.6199949999999, 847.2000119999999, 848.7800289999999, 852.1199949999999, 848.400024, 830.460022, 829.590027, 817.580017, 814.429993, 819.51001, 820.919983, 831.409973, 831.5, 829.5599980000001, 838.549988, 834.570007, 831.409973, 827.880005, 824.669983, 824.72998, 823.349976, 824.320007, 823.5599980000001, 837.169983, 836.820007, 838.210022, 841.650024, 843.1900019999999, 862.76001, 872.2999880000001, 871.7299800000001, 874.25, 905.9600220000001, 912.570007, 916.4400019999999, 927.0399779999999, 931.659973, 927.1300050000001, 934.2999880000001, 932.169983, 928.7800289999999, 930.599976, 932.2199710000001, 937.080017, 943.0, 919.6199949999999, 930.23999, 934.01001, 941.8599849999999, 948.820007, 954.9600220000001, 969.5399779999999, 971.4699710000001, 975.8800050000001, 964.8599849999999, 966.9500119999999, 975.599976, 983.679993, 976.570007, 980.9400019999999, 983.409973, 949.830017, 942.900024, 953.400024, 950.76001, 942.3099980000001, 939.7800289999999, 957.3699949999999, 950.6300050000001, 959.4500119999999, 957.090027, 965.590027, 952.2700199999999, 927.330017, 940.48999, 917.7899779999999, 908.7299800000001, 898.7000119999999, 911.7100220000001, 906.6900019999999, 918.590027, 928.7999880000001, 930.090027, 943.830017, 947.159973, 955.98999, 953.419983, 965.400024, 970.8900150000001, 968.150024, 972.919983, 980.340027, 950.7000119999999, 947.7999880000001, 934.090027, 941.5300289999999, 930.5, 930.830017, 930.3900150000001, 923.650024, 927.9600220000001, 929.3599849999999, 926.7899779999999, 922.900024, 907.23999, 914.3900150000001, 922.669983, 922.2199710000001, 926.9600220000001, 910.9799800000001, 910.669983, 906.659973, 924.6900019999999, 927.0, 921.2800289999999, 915.8900150000001, 913.8099980000001, 921.2899779999999, 929.570007, 939.330017, 937.340027, 928.4500119999999, 927.8099980000001, 935.9500119999999, 926.5, 929.080017, 932.070007, 935.090027, 925.1099849999999, 920.2899779999999, 915.0, 921.8099980000001, 931.580017, 932.4500119999999, 928.5300289999999, 920.9699710000001, 924.8599849999999, 944.48999, 949.5, 959.1099849999999, 953.2700199999999, 957.7899779999999, 951.679993, 969.9600220000001, 978.8900150000001, 977.0, 972.599976, 989.25, 987.830017, 989.679993, 992.0, 992.179993, 992.8099980000001, 984.4500119999999, 988.2000119999999, 968.4500119999999, 970.5399779999999, 973.330017, 972.5599980000001, 1019.2700199999999, 1017.1099849999999, 1016.6400150000001, 1025.5, 1025.579956, 1032.47998, 1025.900024, 1033.329956, 1039.849976, 1031.26001, 1028.069946, 1025.75, 1026.0, 1020.909973, 1032.5, 1019.090027, 1018.3800050000001, 1034.48999, 1035.959961, 1040.609985, 1054.209961, 1047.410034, 1021.659973, 1021.409973, 1010.169983, 998.679993, 1005.150024, 1018.3800050000001, 1030.930054, 1037.050049, 1041.099976, 1040.47998, 1040.609985, 1049.150024, 1064.189941, 1077.140015, 1070.680054, 1064.949951]}]\n"
          ],
          "name": "stdout"
        }
      ]
    },
    {
      "cell_type": "code",
      "metadata": {
        "id": "6vLhhqVIlsrt",
        "colab_type": "code",
        "colab": {}
      },
      "source": [
        "#train_data['Date']"
      ],
      "execution_count": 16,
      "outputs": []
    },
    {
      "cell_type": "code",
      "metadata": {
        "id": "GjpuZqv3ryAF",
        "colab_type": "code",
        "colab": {}
      },
      "source": [
        "testing_data = [\n",
        "    {\n",
        "        \"start\": str(end_training),\n",
        "        \"target\": test_data['Close'].tolist()\n",
        "    }\n",
        "]"
      ],
      "execution_count": 17,
      "outputs": []
    },
    {
      "cell_type": "code",
      "metadata": {
        "id": "xNLD50AYscGt",
        "colab_type": "code",
        "colab": {
          "base_uri": "https://localhost:8080/",
          "height": 54
        },
        "outputId": "b1687dc5-4c6f-457a-fdb2-df8b98b023d0"
      },
      "source": [
        "print((testing_data))"
      ],
      "execution_count": 18,
      "outputs": [
        {
          "output_type": "stream",
          "text": [
            "[{'start': '2020-04-21 00:00:00', 'target': [308.13504, 305.70413199999996, 306.351715, 306.650604, 308.93203700000004, 310.969421, 311.372894, 312.214752, 311.243378, 310.277008, 307.442627, 300.51858500000003, 296.623169, 290.770111, 290.685425, 297.166138, 294.31185899999997, 294.506104, 290.416443, 296.374115, 293.89840699999996, 289.96814, 276.817413, 281.121277, 284.842346, 285.43014500000004, 288.100128, 292.473724, 294.167389, 294.645599, 294.99926800000003, 296.199768, 296.34423799999996, 294.047852, 294.750214, 294.296906, 296.418945, 300.408997, 301.614471, 300.98681600000003, 300.065277, 298.34173599999997, 299.377869, 298.31185899999997, 295.875977, 301.0466, 299.93576, 303.397797, 305.604523, 307.069031, 305.958191, 306.854828, 307.283234, 307.193573, 310.924591, 318.620728, 314.69543500000003, 312.214752, 304.772644, 304.399048, 308.797546, 307.098907, 307.243378, 299.372864, 299.059052, 304.37912, 304.85733, 303.93576, 304.34921299999996, 305.99804700000004, 308.0354, 307.098907, 307.069031, 311.083984, 312.902161, 310.90963700000003, 310.94448900000003, 311.462555, 313.863556, 303.965668, 304.51858500000003, 303.273254, 303.880981, 305.55471800000004, 299.25830099999996, 299.273254, 303.64187599999997, 299.18856800000003, 294.725311, 295.049072, 294.78009, 289.066498, 287.278198, 283.93075600000003, 283.716553, 277.50982700000003, 279.631866, 279.48242200000004, 287.173615, 287.582062, 289.993042, 292.34921299999996, 288.78756699999997, 286.605743, 289.778839, 289.833618, 292.284454, 294.795044, 292.74273700000003, 283.482452, 286.017944, 288.91705299999995, 288.00048799999996, 287.606964, 284.239594, 287.06402599999996, 288.17483500000003, 264.359131, 262.43631, 259.791229, 261.883392, 261.56958, 261.544678, 265.415161, 267.875946, 267.98053, 271.034088, 268.274445, 265.948151, 266.894623, 266.137451, 266.650543, 267.83609, 270.316772, 266.72525, 266.52600099999995, 263.786255, 258.242035, 264.239563, 263.915771, 264.633087, 261.03656, 258.22711200000003, 258.162354, 258.864716, 258.097595, 259.477417, 263.522247, 261.818634, 263.044037, 260.563354, 259.55712900000003, 258.545898, 258.615631, 257.400208, 253.80367999999999, 251.42260699999997, 253.235809, 250.535934, 249.250748, 241.60440099999997, 241.385223, 245.57951400000002, 242.595688, 239.213364, 236.553345, 240.49855, 245.90329, 247.855972, 252.24452200000002, 259.542175, 265.225861, 266.68042, 272.279419, 265.001709, 262.65551800000003, 266.00793500000003, 268.125, 263.482391, 297.694183, 296.359161, 300.149963, 296.563416, 302.361664, 307.960693, 308.33429, 310.097687, 302.476257, 304.329285, 300.717834, 302.252075, 295.09390299999995, 299.462555, 287.68170200000003, 288.438873, 271.990509, 285.634369, 273.479919, 280.015442, 280.832367, 277.574585, 268.493622, 265.579529, 251.49732999999998, 244.543396, 248.15486099999998, 258.441284, 260.667938, 259.049011, 262.44628900000004, 268.533478, 269.340454, 269.469971, 265.255768, 261.440063, 260.115021, 266.017914, 266.481171, 261.445038, 264.07018999999997, 263.771332, 265.041565, 270.266968, 272.319275, 272.314301, 272.294373, 268.59326200000004, 259.35784900000004, 261.773804, 264.951904, 268.66299399999997, 263.432587, 262.765106, 256.55835, 246.834808, 250.012894, 251.407669, 256.393982, 256.598206, 267.58203100000003, 270.575806, 273.225891, 278.451294, 294.73526, 290.117554, 294.152435, 289.26574700000003, 290.745209, 294.142487, 297.096405, 290.49118, 292.060272, 298.217194, 298.949463, 295.21347000000003, 288.244598, 291.318054, 297.63439900000003, 296.95694, 303.029175, 305.026672, 299.35296600000004, 296.428925, 303.039124, 305.355438, 307.128815, 304.593323, 299.31311, 296.329285, 289.385315, 288.91705299999995, 283.99054, 280.448822, 292.996765, 290.37658700000003, 298.575867, 305.739014, 309.021698, 311.65682999999996, 310.72033700000003, 310.531067, 306.874756, 312.538544, 311.527313, 311.646881, 307.880981, 308.613251, 311.81124900000003, 309.753967, 314.008026, 311.741516, 313.674286, 315.387848, 318.92956499999997, 318.65560899999997, 320.00054900000003, 321.744019, 331.462585, 332.892242, 328.274536, 323.79632599999997, 310.06777999999997, 310.406525, 311.81124900000003, 313.644379, 311.32806400000004, 313.11636400000003, 315.273285, 318.590851, 291.90087900000003, 291.666748, 289.380341, 283.68170200000003, 282.989288, 288.907104, 287.766388, 288.971863, 289.33050499999996, 291.46252400000003, 297.051575, 303.40774500000003, 302.252075, 303.786346, 304.588318, 301.8237, 304.95694, 303.741516, 301.64935299999996, 302.127563, 301.191071, 305.85357700000003, 302.8349, 301.92330899999996, 303.81124900000003, 303.517334, 308.040375, 307.970642, 310.037903, 309.465057, 305.978119, 301.350464, 302.267029, 302.436401, 299.004272, 301.445099, 307.736542, 306.844879, 309.405273, 311.35296600000004, 315.80627400000003, 315.56219500000003, 318.795074, 321.818756, 320.095215, 323.452606, 322.301941, 326.65560899999997, 322.994324, 319.422729, 322.252106, 320.110138, 316.38909900000004, 314.97937, 314.24215699999996, 312.259583, 316.792572, 324.28949, 311.13378900000004, 301.903381, 303.64685099999997, 302.59082, 298.531036, 296.917084, 297.684204, 299.51236, 303.721588, 306.585846, 306.341766, 301.295685, 301.086456, 302.496185, 304.369141, 297.370392, 302.640625, 305.250854, 303.43765299999995, 305.684235, 301.48495499999996, 300.872253, 304.413971, 313.29071, 310.361694, 299.078979, 305.908386, 299.278229, 303.59207200000003, 300.702881, 294.660553, 296.060303, 293.01669300000003, 289.345459, 284.42392, 288.214691, 284.13998399999997, 289.200989, 288.03537, 289.141235, 283.188538, 281.494873, 279.497375, 278.481171, 281.200989, 284.359161, 289.67919900000004, 287.676727, 281.549683, 284.672974, 279.30310099999997, 281.285675, 283.587036, 281.101349, 288.951935, 289.151184, 292.81744399999997, 296.847351, 291.89590499999997, 291.910858, 289.763885, 284.528503, 284.17483500000003, 287.183563, 286.386566, 287.288177, 289.295654, 295.42266800000004, 304.26953100000003, 306.605774, 302.650604, 302.859802, 305.53479, 316.294464, 314.969421, 315.303162, 315.158722, 313.20105, 319.46756, 320.209778, 319.074036, 319.915863, 319.97564700000004, 319.8013, 328.772675, 333.081543, 332.523621, 335.17868, 337.305695, 336.508698, 333.50494399999997, 337.325623, 337.136322, 338.047913, 333.360474, 337.360504, 342.720398, 339.56723, 341.265839, 339.24841299999997, 339.08902, 348.394135, 351.756531, 349.076569, 344.802582, 344.150055, 351.701721, 353.514954, 353.664368, 357.79888900000003, 362.391663, 362.7005, 365.624542, 373.290802, 373.181213, 375.323212, 376.83752400000003, 375.841248, 379.467651, 377.081604, 379.826324, 382.590942, 382.39169300000003, 377.505005, 370.65570099999997, 370.889801, 374.336884, 370.984467, 369.106506, 370.959564, 376.334412, 346.202362, 339.622009, 338.067841, 338.904694, 337.385406, 337.614532, 336.314423, 338.879791, 342.511169, 342.675568, 340.204834, 339.587158, 332.314392, 324.927094, 330.277039, 331.706696, 328.294464, 325.05661000000003, 322.421478, 322.381622, 332.85736099999997, 333.73407000000003, 331.691742, 332.737823, 329.340546, 334.102692, 340.558502, 344.653168, 347.881042, 346.32687400000003, 344.224762, 342.625763, 344.274567, 340.82748399999997, 341.43023700000003, 347.138824, 347.47757, 350.037964, 349.669342, 359.04422, 359.18866, 358.71047999999996, 359.831268, 356.478821, 353.42526200000003, 353.11145, 351.826263, 348.697998, 352.369232, 360.274597, 360.48382599999997, 367.607117, 366.003143, 365.280823, 367.681824, 369.35556, 368.613342, 360.274597, 361.111481, 356.259644, 354.331879, 350.939606, 350.12265, 369.36554, 375.69680800000003, 375.427795, 373.96328700000004, 375.4328, 375.507507, 376.434021, 386.351868, 378.092804, 381.440277, 383.647003, 385.529938, 391.21862799999997, 389.749115, 388.892334, 389.968292, 392.439056, 394.964569, 401.918518, 394.75036600000004, 396.279633, 398.361847, 393.908539, 393.589722, 398.396698, 399.104065, 401.589752, 409.216156, 417.73422200000005, 414.137695, 414.745422, 414.20745800000003, 415.851288, 412.25973500000003, 411.114044, 409.236084, 405.629608, 402.386749, 404.145172, 405.833832, 404.11526499999997, 403.64205899999996, 403.308289, 404.693115, 399.831329, 395.612152, 399.099091, 405.00195299999996, 401.594727, 396.050507, 390.062958, 385.978271, 387.373016, 393.61462400000005, 393.71923799999996, 393.549866, 389.505035, 395.20367400000003, 389.818878, 381.524963, 398.441528, 398.561096, 402.441559, 405.206177, 403.039307, 399.213654, 408.000702, 410.745422, 408.68316699999997, 413.256012, 421.28094500000003, 429.16638200000006, 427.01443499999993, 435.183838, 434.11282300000005, 438.471497, 437.12655599999994, 441.89367699999997, 456.23492400000003, 450.247375]}]\n"
          ],
          "name": "stdout"
        }
      ]
    },
    {
      "cell_type": "markdown",
      "metadata": {
        "id": "oigVDLm8EFAN",
        "colab_type": "text"
      },
      "source": [
        "# Preperation of Training and Testing Data Files"
      ]
    },
    {
      "cell_type": "code",
      "metadata": {
        "id": "WJgBmcRILeYq",
        "colab_type": "code",
        "colab": {}
      },
      "source": [
        "def write_dicts_to_file(path, data):\n",
        "    with open(path, 'wb') as fp:\n",
        "        for d in data:\n",
        "            fp.write(json.dumps(d).encode(\"utf-8\"))\n",
        "            fp.write(\"\\n\".encode('utf-8'))"
      ],
      "execution_count": 19,
      "outputs": []
    },
    {
      "cell_type": "code",
      "metadata": {
        "id": "QpV2T4z4LeYu",
        "colab_type": "code",
        "colab": {}
      },
      "source": [
        "write_dicts_to_file(\"/content/drive/My Drive/AICamp/DL/TimeSeries/Data/stock_train.json\", training_data)\n",
        "write_dicts_to_file(\"/content/drive/My Drive/AICamp/DL/TimeSeries/Data/stock_test.json\", testing_data)"
      ],
      "execution_count": 20,
      "outputs": []
    },
    {
      "cell_type": "markdown",
      "metadata": {
        "id": "ajNs-_FXTKL8",
        "colab_type": "text"
      },
      "source": [
        "# Result Verification\n",
        "### (test resuls are taken from different programme)\n"
      ]
    },
    {
      "cell_type": "code",
      "metadata": {
        "id": "VXC78nEnTU83",
        "colab_type": "code",
        "colab": {}
      },
      "source": [
        "import requests\n",
        "import json\n",
        "def get_prediction(data):\n",
        "    url = 'https://mng9vecu3b.execute-api.us-east-1.amazonaws.com/AICamp-Timeseries-3A/aicamp-timeseries-3a'\n",
        "    r = requests.post(url, data=json.dumps(data))\n",
        "    response = getattr(r,'_content').decode(\"utf-8\")\n",
        "    #print(response)\n",
        "    return response"
      ],
      "execution_count": 28,
      "outputs": []
    },
    {
      "cell_type": "code",
      "metadata": {
        "id": "-dTixJmpTmwz",
        "colab_type": "code",
        "colab": {}
      },
      "source": [
        "predictions = []\n",
        "for a in range(0,10):\n",
        "    test_sample = {}\n",
        "    test_sample = {\"instances\": [testing_data.copy()]}\n",
        "    test_sample[\"instances\"][\"target\"] = testing_data[\"target\"][a:a+100]\n",
        "    test_sample[\"configuration\"] =  {\"output_types\": [\"mean\",\n",
        "                                                      \"quantiles\"\n",
        "                                                     ],\n",
        "                                     \"quantiles\": [\"0.1\",\n",
        "                                                   \"0.9\"\n",
        "                                                  ]\n",
        "                                    }\n",
        "    prediction_sample = json.loads(get_prediction(test_sample))['body']['predictions']['quantiles']['0.9']\n",
        "    predictions.append(prediction_sample)"
      ],
      "execution_count": null,
      "outputs": []
    },
    {
      "cell_type": "code",
      "metadata": {
        "id": "mfl5qHdfJPN5",
        "colab_type": "code",
        "colab": {}
      },
      "source": [
        "import matplotlib.pyplot as plt\n",
        "plt.plot(predictions[9], label=\"predictions\")\n",
        "plt.plot(test_data[house][\"target\"][109:129], label=\"true value\")\n",
        "#plt.xlabel('freq = 2H')\n",
        "plt.xlabel('freq = D')\n",
        "plt.legend(bbox_to_anchor=(1.05, 1), loc='upper left', borderaxespad=0.)\n",
        "plt.show()\n"
      ],
      "execution_count": null,
      "outputs": []
    },
    {
      "cell_type": "markdown",
      "metadata": {
        "id": "WFT9geTAJfKN",
        "colab_type": "text"
      },
      "source": [
        "## The following graph shows that 90% of the generated values are below the value"
      ]
    }
  ]
}