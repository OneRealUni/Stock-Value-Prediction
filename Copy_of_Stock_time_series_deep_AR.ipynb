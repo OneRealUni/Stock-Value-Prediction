{
  "nbformat": 4,
  "nbformat_minor": 0,
  "metadata": {
    "kernelspec": {
      "display_name": "Python 3",
      "language": "python",
      "name": "python3"
    },
    "language_info": {
      "codemirror_mode": {
        "name": "ipython",
        "version": 3
      },
      "file_extension": ".py",
      "mimetype": "text/x-python",
      "name": "python",
      "nbconvert_exporter": "python",
      "pygments_lexer": "ipython3",
      "version": "3.7.3"
    },
    "colab": {
      "name": "Copy of Stock time-series-deep-AR.ipynb",
      "provenance": [],
      "collapsed_sections": [],
      "toc_visible": true,
      "include_colab_link": true
    }
  },
  "cells": [
    {
      "cell_type": "markdown",
      "metadata": {
        "id": "view-in-github",
        "colab_type": "text"
      },
      "source": [
        "<a href=\"https://colab.research.google.com/github/OneRealUni/Stock-Value-Prediction/blob/master/Copy_of_Stock_time_series_deep_AR.ipynb\" target=\"_parent\"><img src=\"https://colab.research.google.com/assets/colab-badge.svg\" alt=\"Open In Colab\"/></a>"
      ]
    },
    {
      "cell_type": "markdown",
      "metadata": {
        "id": "FFeuSvyOBHqQ",
        "colab_type": "text"
      },
      "source": [
        "# Stock Value Prediction Exercise in SageMaker using DeepAR\n",
        "This small project works with data extracted from Yahoo Finance"
      ]
    },
    {
      "cell_type": "markdown",
      "metadata": {
        "id": "DYvd6g5UWYRy",
        "colab_type": "text"
      },
      "source": [
        "\n",
        "\n",
        "![alt text](https://drive.google.com/uc?export=view&id=1CscQfP79cskW5daDcfz8jEvxg9t40H1n)\n"
      ]
    },
    {
      "cell_type": "code",
      "metadata": {
        "id": "8lT3TRd1LeXG",
        "colab_type": "code",
        "colab": {}
      },
      "source": [
        "import pandas as pd\n",
        "import numpy as np\n",
        "import json\n",
        "import matplotlib.pyplot as plt"
      ],
      "execution_count": 1,
      "outputs": []
    },
    {
      "cell_type": "code",
      "metadata": {
        "id": "4eBUdMcb118A",
        "colab_type": "code",
        "colab": {
          "base_uri": "https://localhost:8080/",
          "height": 122
        },
        "outputId": "a78984da-df3d-40de-8806-0cebf543d300"
      },
      "source": [
        "from google.colab import drive\n",
        "drive.mount('/content/drive')"
      ],
      "execution_count": 2,
      "outputs": [
        {
          "output_type": "stream",
          "text": [
            "Go to this URL in a browser: https://accounts.google.com/o/oauth2/auth?client_id=947318989803-6bn6qk8qdgf4n4g3pfee6491hc0brc4i.apps.googleusercontent.com&redirect_uri=urn%3aietf%3awg%3aoauth%3a2.0%3aoob&response_type=code&scope=email%20https%3a%2f%2fwww.googleapis.com%2fauth%2fdocs.test%20https%3a%2f%2fwww.googleapis.com%2fauth%2fdrive%20https%3a%2f%2fwww.googleapis.com%2fauth%2fdrive.photos.readonly%20https%3a%2f%2fwww.googleapis.com%2fauth%2fpeopleapi.readonly\n",
            "\n",
            "Enter your authorization code:\n",
            "··········\n",
            "Mounted at /content/drive\n"
          ],
          "name": "stdout"
        }
      ]
    },
    {
      "cell_type": "markdown",
      "metadata": {
        "id": "cesTiCsNCuFG",
        "colab_type": "text"
      },
      "source": [
        "# Loading the CSV file"
      ]
    },
    {
      "cell_type": "code",
      "metadata": {
        "id": "PJ0UlBNWLeXY",
        "colab_type": "code",
        "colab": {
          "base_uri": "https://localhost:8080/",
          "height": 204
        },
        "outputId": "419e9c05-dcd4-4b4c-c78a-10c9daf665d3"
      },
      "source": [
        "# dataset: https://archive.ics.uci.edu/ml/datasets/ElectricityLoadDiagrams20112014\n",
        "# data = pd.read_csv('/content/drive/My Drive/AICamp/DL/TimeSeries/Data/GOOG.csv', sep=\";\", index_col=0, parse_dates=True, decimal=',')\n",
        "# num_timeseries = data.shape[1]\n",
        "df = pd.read_csv('/content/drive/My Drive/AICamp/DL/TimeSeries/Data/GOOG.csv')\n",
        "df.head()"
      ],
      "execution_count": 3,
      "outputs": [
        {
          "output_type": "execute_result",
          "data": {
            "text/html": [
              "<div>\n",
              "<style scoped>\n",
              "    .dataframe tbody tr th:only-of-type {\n",
              "        vertical-align: middle;\n",
              "    }\n",
              "\n",
              "    .dataframe tbody tr th {\n",
              "        vertical-align: top;\n",
              "    }\n",
              "\n",
              "    .dataframe thead th {\n",
              "        text-align: right;\n",
              "    }\n",
              "</style>\n",
              "<table border=\"1\" class=\"dataframe\">\n",
              "  <thead>\n",
              "    <tr style=\"text-align: right;\">\n",
              "      <th></th>\n",
              "      <th>Date</th>\n",
              "      <th>Open</th>\n",
              "      <th>High</th>\n",
              "      <th>Low</th>\n",
              "      <th>Close</th>\n",
              "      <th>Adj Close</th>\n",
              "      <th>Volume</th>\n",
              "    </tr>\n",
              "  </thead>\n",
              "  <tbody>\n",
              "    <tr>\n",
              "      <th>0</th>\n",
              "      <td>2010-01-13</td>\n",
              "      <td>287.168610</td>\n",
              "      <td>293.091431</td>\n",
              "      <td>285.878448</td>\n",
              "      <td>292.448822</td>\n",
              "      <td>292.448822</td>\n",
              "      <td>13041800</td>\n",
              "    </tr>\n",
              "    <tr>\n",
              "      <th>1</th>\n",
              "      <td>2010-01-14</td>\n",
              "      <td>290.859772</td>\n",
              "      <td>295.990540</td>\n",
              "      <td>290.316833</td>\n",
              "      <td>293.823669</td>\n",
              "      <td>293.823669</td>\n",
              "      <td>8511900</td>\n",
              "    </tr>\n",
              "    <tr>\n",
              "      <th>2</th>\n",
              "      <td>2010-01-15</td>\n",
              "      <td>295.562164</td>\n",
              "      <td>295.671753</td>\n",
              "      <td>287.940735</td>\n",
              "      <td>288.917053</td>\n",
              "      <td>288.917053</td>\n",
              "      <td>10909600</td>\n",
              "    </tr>\n",
              "    <tr>\n",
              "      <th>3</th>\n",
              "      <td>2010-01-19</td>\n",
              "      <td>289.514832</td>\n",
              "      <td>294.107605</td>\n",
              "      <td>287.069000</td>\n",
              "      <td>292.712830</td>\n",
              "      <td>292.712830</td>\n",
              "      <td>8665700</td>\n",
              "    </tr>\n",
              "    <tr>\n",
              "      <th>4</th>\n",
              "      <td>2010-01-20</td>\n",
              "      <td>291.895905</td>\n",
              "      <td>291.895905</td>\n",
              "      <td>286.570862</td>\n",
              "      <td>289.121307</td>\n",
              "      <td>289.121307</td>\n",
              "      <td>6525700</td>\n",
              "    </tr>\n",
              "  </tbody>\n",
              "</table>\n",
              "</div>"
            ],
            "text/plain": [
              "         Date        Open        High  ...       Close   Adj Close    Volume\n",
              "0  2010-01-13  287.168610  293.091431  ...  292.448822  292.448822  13041800\n",
              "1  2010-01-14  290.859772  295.990540  ...  293.823669  293.823669   8511900\n",
              "2  2010-01-15  295.562164  295.671753  ...  288.917053  288.917053  10909600\n",
              "3  2010-01-19  289.514832  294.107605  ...  292.712830  292.712830   8665700\n",
              "4  2010-01-20  291.895905  291.895905  ...  289.121307  289.121307   6525700\n",
              "\n",
              "[5 rows x 7 columns]"
            ]
          },
          "metadata": {
            "tags": []
          },
          "execution_count": 3
        }
      ]
    },
    {
      "cell_type": "code",
      "metadata": {
        "id": "QJKCicG94qEf",
        "colab_type": "code",
        "colab": {
          "base_uri": "https://localhost:8080/",
          "height": 204
        },
        "outputId": "95d29f79-426e-454a-b087-ed33763b427e"
      },
      "source": [
        "df.tail()"
      ],
      "execution_count": 4,
      "outputs": [
        {
          "output_type": "execute_result",
          "data": {
            "text/html": [
              "<div>\n",
              "<style scoped>\n",
              "    .dataframe tbody tr th:only-of-type {\n",
              "        vertical-align: middle;\n",
              "    }\n",
              "\n",
              "    .dataframe tbody tr th {\n",
              "        vertical-align: top;\n",
              "    }\n",
              "\n",
              "    .dataframe thead th {\n",
              "        text-align: right;\n",
              "    }\n",
              "</style>\n",
              "<table border=\"1\" class=\"dataframe\">\n",
              "  <thead>\n",
              "    <tr style=\"text-align: right;\">\n",
              "      <th></th>\n",
              "      <th>Date</th>\n",
              "      <th>Open</th>\n",
              "      <th>High</th>\n",
              "      <th>Low</th>\n",
              "      <th>Close</th>\n",
              "      <th>Adj Close</th>\n",
              "      <th>Volume</th>\n",
              "    </tr>\n",
              "  </thead>\n",
              "  <tbody>\n",
              "    <tr>\n",
              "      <th>2636</th>\n",
              "      <td>2020-07-06</td>\n",
              "      <td>1480.060059</td>\n",
              "      <td>1506.589966</td>\n",
              "      <td>1472.859985</td>\n",
              "      <td>1495.699951</td>\n",
              "      <td>1495.699951</td>\n",
              "      <td>1564000</td>\n",
              "    </tr>\n",
              "    <tr>\n",
              "      <th>2637</th>\n",
              "      <td>2020-07-07</td>\n",
              "      <td>1490.000000</td>\n",
              "      <td>1516.800049</td>\n",
              "      <td>1483.550049</td>\n",
              "      <td>1485.180054</td>\n",
              "      <td>1485.180054</td>\n",
              "      <td>1458200</td>\n",
              "    </tr>\n",
              "    <tr>\n",
              "      <th>2638</th>\n",
              "      <td>2020-07-08</td>\n",
              "      <td>1494.319946</td>\n",
              "      <td>1505.880005</td>\n",
              "      <td>1485.630005</td>\n",
              "      <td>1496.000000</td>\n",
              "      <td>1496.000000</td>\n",
              "      <td>1249700</td>\n",
              "    </tr>\n",
              "    <tr>\n",
              "      <th>2639</th>\n",
              "      <td>2020-07-09</td>\n",
              "      <td>1506.449951</td>\n",
              "      <td>1522.719971</td>\n",
              "      <td>1488.084961</td>\n",
              "      <td>1510.989990</td>\n",
              "      <td>1510.989990</td>\n",
              "      <td>1423300</td>\n",
              "    </tr>\n",
              "    <tr>\n",
              "      <th>2640</th>\n",
              "      <td>2020-07-10</td>\n",
              "      <td>1506.150024</td>\n",
              "      <td>1543.829956</td>\n",
              "      <td>1496.540039</td>\n",
              "      <td>1541.739990</td>\n",
              "      <td>1541.739990</td>\n",
              "      <td>1856300</td>\n",
              "    </tr>\n",
              "  </tbody>\n",
              "</table>\n",
              "</div>"
            ],
            "text/plain": [
              "            Date         Open         High  ...        Close    Adj Close   Volume\n",
              "2636  2020-07-06  1480.060059  1506.589966  ...  1495.699951  1495.699951  1564000\n",
              "2637  2020-07-07  1490.000000  1516.800049  ...  1485.180054  1485.180054  1458200\n",
              "2638  2020-07-08  1494.319946  1505.880005  ...  1496.000000  1496.000000  1249700\n",
              "2639  2020-07-09  1506.449951  1522.719971  ...  1510.989990  1510.989990  1423300\n",
              "2640  2020-07-10  1506.150024  1543.829956  ...  1541.739990  1541.739990  1856300\n",
              "\n",
              "[5 rows x 7 columns]"
            ]
          },
          "metadata": {
            "tags": []
          },
          "execution_count": 4
        }
      ]
    },
    {
      "cell_type": "code",
      "metadata": {
        "id": "vidMB4K9nj3P",
        "colab_type": "code",
        "colab": {
          "base_uri": "https://localhost:8080/",
          "height": 34
        },
        "outputId": "79ed299e-6064-421e-83e5-2c9e1946e300"
      },
      "source": [
        "len(df)"
      ],
      "execution_count": 5,
      "outputs": [
        {
          "output_type": "execute_result",
          "data": {
            "text/plain": [
              "2641"
            ]
          },
          "metadata": {
            "tags": []
          },
          "execution_count": 5
        }
      ]
    },
    {
      "cell_type": "markdown",
      "metadata": {
        "id": "v3wbtUqRC6Uz",
        "colab_type": "text"
      },
      "source": [
        "# Data Visualisation"
      ]
    },
    {
      "cell_type": "code",
      "metadata": {
        "id": "MMFlKiF3WDSQ",
        "colab_type": "code",
        "colab": {
          "base_uri": "https://localhost:8080/",
          "height": 501
        },
        "outputId": "636d445c-f3bf-49fb-f0d6-bd85001f1fab"
      },
      "source": [
        "#setting index as date\n",
        "df['Date'] = pd.to_datetime(df.Date,format='%Y-%m-%d')\n",
        "df.index = df['Date']\n",
        "\n",
        "#plot\n",
        "plt.figure(figsize=(16,8))\n",
        "plt.plot(df['Close'], label='Close Price history')"
      ],
      "execution_count": 6,
      "outputs": [
        {
          "output_type": "execute_result",
          "data": {
            "text/plain": [
              "[<matplotlib.lines.Line2D at 0x7fcaa98c26d8>]"
            ]
          },
          "metadata": {
            "tags": []
          },
          "execution_count": 6
        },
        {
          "output_type": "display_data",
          "data": {
            "image/png": "[encoded data removed]",
            "text/plain": [
              "<Figure size 1152x576 with 1 Axes>"
            ]
          },
          "metadata": {
            "tags": [],
            "needs_background": "light"
          }
        }
      ]
    },
    {
      "cell_type": "markdown",
      "metadata": {
        "id": "SqtZZu8RDCJh",
        "colab_type": "text"
      },
      "source": [
        "# Selecting of Required Data"
      ]
    },
    {
      "cell_type": "code",
      "metadata": {
        "id": "5_CdUaVG6wN3",
        "colab_type": "code",
        "colab": {
          "base_uri": "https://localhost:8080/",
          "height": 204
        },
        "outputId": "e0fc26a7-e5a3-4bae-e22f-3018cb1b0607"
      },
      "source": [
        "#creating dataframe\n",
        "data = df.sort_index(ascending=True, axis=0)\n",
        "new_data = pd.DataFrame(index=range(0,len(df)),columns=['Date', 'Close'])\n",
        "for i in range(0,len(data)):\n",
        "    new_data['Date'][i] = data['Date'][i]\n",
        "    new_data['Close'][i] = data['Close'][i]\n",
        "new_data.head()"
      ],
      "execution_count": 7,
      "outputs": [
        {
          "output_type": "execute_result",
          "data": {
            "text/html": [
              "<div>\n",
              "<style scoped>\n",
              "    .dataframe tbody tr th:only-of-type {\n",
              "        vertical-align: middle;\n",
              "    }\n",
              "\n",
              "    .dataframe tbody tr th {\n",
              "        vertical-align: top;\n",
              "    }\n",
              "\n",
              "    .dataframe thead th {\n",
              "        text-align: right;\n",
              "    }\n",
              "</style>\n",
              "<table border=\"1\" class=\"dataframe\">\n",
              "  <thead>\n",
              "    <tr style=\"text-align: right;\">\n",
              "      <th></th>\n",
              "      <th>Date</th>\n",
              "      <th>Close</th>\n",
              "    </tr>\n",
              "  </thead>\n",
              "  <tbody>\n",
              "    <tr>\n",
              "      <th>0</th>\n",
              "      <td>2010-01-13 00:00:00</td>\n",
              "      <td>292.449</td>\n",
              "    </tr>\n",
              "    <tr>\n",
              "      <th>1</th>\n",
              "      <td>2010-01-14 00:00:00</td>\n",
              "      <td>293.824</td>\n",
              "    </tr>\n",
              "    <tr>\n",
              "      <th>2</th>\n",
              "      <td>2010-01-15 00:00:00</td>\n",
              "      <td>288.917</td>\n",
              "    </tr>\n",
              "    <tr>\n",
              "      <th>3</th>\n",
              "      <td>2010-01-19 00:00:00</td>\n",
              "      <td>292.713</td>\n",
              "    </tr>\n",
              "    <tr>\n",
              "      <th>4</th>\n",
              "      <td>2010-01-20 00:00:00</td>\n",
              "      <td>289.121</td>\n",
              "    </tr>\n",
              "  </tbody>\n",
              "</table>\n",
              "</div>"
            ],
            "text/plain": [
              "                  Date    Close\n",
              "0  2010-01-13 00:00:00  292.449\n",
              "1  2010-01-14 00:00:00  293.824\n",
              "2  2010-01-15 00:00:00  288.917\n",
              "3  2010-01-19 00:00:00  292.713\n",
              "4  2010-01-20 00:00:00  289.121"
            ]
          },
          "metadata": {
            "tags": []
          },
          "execution_count": 7
        }
      ]
    },
    {
      "cell_type": "code",
      "metadata": {
        "id": "o8snLzk3nsKd",
        "colab_type": "code",
        "colab": {
          "base_uri": "https://localhost:8080/",
          "height": 204
        },
        "outputId": "518703b5-ac43-40fa-9130-386c810d4517"
      },
      "source": [
        "new_data.tail()"
      ],
      "execution_count": 8,
      "outputs": [
        {
          "output_type": "execute_result",
          "data": {
            "text/html": [
              "<div>\n",
              "<style scoped>\n",
              "    .dataframe tbody tr th:only-of-type {\n",
              "        vertical-align: middle;\n",
              "    }\n",
              "\n",
              "    .dataframe tbody tr th {\n",
              "        vertical-align: top;\n",
              "    }\n",
              "\n",
              "    .dataframe thead th {\n",
              "        text-align: right;\n",
              "    }\n",
              "</style>\n",
              "<table border=\"1\" class=\"dataframe\">\n",
              "  <thead>\n",
              "    <tr style=\"text-align: right;\">\n",
              "      <th></th>\n",
              "      <th>Date</th>\n",
              "      <th>Close</th>\n",
              "    </tr>\n",
              "  </thead>\n",
              "  <tbody>\n",
              "    <tr>\n",
              "      <th>2636</th>\n",
              "      <td>2020-07-06 00:00:00</td>\n",
              "      <td>1495.7</td>\n",
              "    </tr>\n",
              "    <tr>\n",
              "      <th>2637</th>\n",
              "      <td>2020-07-07 00:00:00</td>\n",
              "      <td>1485.18</td>\n",
              "    </tr>\n",
              "    <tr>\n",
              "      <th>2638</th>\n",
              "      <td>2020-07-08 00:00:00</td>\n",
              "      <td>1496</td>\n",
              "    </tr>\n",
              "    <tr>\n",
              "      <th>2639</th>\n",
              "      <td>2020-07-09 00:00:00</td>\n",
              "      <td>1510.99</td>\n",
              "    </tr>\n",
              "    <tr>\n",
              "      <th>2640</th>\n",
              "      <td>2020-07-10 00:00:00</td>\n",
              "      <td>1541.74</td>\n",
              "    </tr>\n",
              "  </tbody>\n",
              "</table>\n",
              "</div>"
            ],
            "text/plain": [
              "                     Date    Close\n",
              "2636  2020-07-06 00:00:00   1495.7\n",
              "2637  2020-07-07 00:00:00  1485.18\n",
              "2638  2020-07-08 00:00:00     1496\n",
              "2639  2020-07-09 00:00:00  1510.99\n",
              "2640  2020-07-10 00:00:00  1541.74"
            ]
          },
          "metadata": {
            "tags": []
          },
          "execution_count": 8
        }
      ]
    },
    {
      "cell_type": "code",
      "metadata": {
        "id": "05LJcJWz98i1",
        "colab_type": "code",
        "colab": {
          "base_uri": "https://localhost:8080/",
          "height": 34
        },
        "outputId": "211c6020-f0a8-40dd-a982-411bca96cf5c"
      },
      "source": [
        "len(new_data)"
      ],
      "execution_count": 9,
      "outputs": [
        {
          "output_type": "execute_result",
          "data": {
            "text/plain": [
              "2641"
            ]
          },
          "metadata": {
            "tags": []
          },
          "execution_count": 9
        }
      ]
    },
    {
      "cell_type": "markdown",
      "metadata": {
        "id": "CWlFLK86DYiP",
        "colab_type": "text"
      },
      "source": [
        "# Spliting the Training Data "
      ]
    },
    {
      "cell_type": "code",
      "metadata": {
        "id": "KSL_RgZgOH6I",
        "colab_type": "code",
        "colab": {
          "base_uri": "https://localhost:8080/",
          "height": 204
        },
        "outputId": "27339a13-f78f-4578-fae3-d3c62201a5c8"
      },
      "source": [
        "#creating dataframe\n",
        "train_data = pd.DataFrame(index=range(0,2000),columns=['Date', 'Close'])\n",
        "for i in range(0,2000):\n",
        "    train_data['Date'][i] = new_data['Date'][i]\n",
        "    train_data['Close'][i] = new_data['Close'][i]\n",
        "train_data.tail()\n"
      ],
      "execution_count": 10,
      "outputs": [
        {
          "output_type": "execute_result",
          "data": {
            "text/html": [
              "<div>\n",
              "<style scoped>\n",
              "    .dataframe tbody tr th:only-of-type {\n",
              "        vertical-align: middle;\n",
              "    }\n",
              "\n",
              "    .dataframe tbody tr th {\n",
              "        vertical-align: top;\n",
              "    }\n",
              "\n",
              "    .dataframe thead th {\n",
              "        text-align: right;\n",
              "    }\n",
              "</style>\n",
              "<table border=\"1\" class=\"dataframe\">\n",
              "  <thead>\n",
              "    <tr style=\"text-align: right;\">\n",
              "      <th></th>\n",
              "      <th>Date</th>\n",
              "      <th>Close</th>\n",
              "    </tr>\n",
              "  </thead>\n",
              "  <tbody>\n",
              "    <tr>\n",
              "      <th>1995</th>\n",
              "      <td>2017-12-14 00:00:00</td>\n",
              "      <td>1049.15</td>\n",
              "    </tr>\n",
              "    <tr>\n",
              "      <th>1996</th>\n",
              "      <td>2017-12-15 00:00:00</td>\n",
              "      <td>1064.19</td>\n",
              "    </tr>\n",
              "    <tr>\n",
              "      <th>1997</th>\n",
              "      <td>2017-12-18 00:00:00</td>\n",
              "      <td>1077.14</td>\n",
              "    </tr>\n",
              "    <tr>\n",
              "      <th>1998</th>\n",
              "      <td>2017-12-19 00:00:00</td>\n",
              "      <td>1070.68</td>\n",
              "    </tr>\n",
              "    <tr>\n",
              "      <th>1999</th>\n",
              "      <td>2017-12-20 00:00:00</td>\n",
              "      <td>1064.95</td>\n",
              "    </tr>\n",
              "  </tbody>\n",
              "</table>\n",
              "</div>"
            ],
            "text/plain": [
              "                     Date    Close\n",
              "1995  2017-12-14 00:00:00  1049.15\n",
              "1996  2017-12-15 00:00:00  1064.19\n",
              "1997  2017-12-18 00:00:00  1077.14\n",
              "1998  2017-12-19 00:00:00  1070.68\n",
              "1999  2017-12-20 00:00:00  1064.95"
            ]
          },
          "metadata": {
            "tags": []
          },
          "execution_count": 10
        }
      ]
    },
    {
      "cell_type": "markdown",
      "metadata": {
        "id": "MtT0OYDmDnk7",
        "colab_type": "text"
      },
      "source": [
        "# Spliting the Test Data"
      ]
    },
    {
      "cell_type": "code",
      "metadata": {
        "id": "MljeGSNcXjZo",
        "colab_type": "code",
        "colab": {
          "base_uri": "https://localhost:8080/",
          "height": 204
        },
        "outputId": "3682634a-e38d-4207-eb30-9d80d29667f0"
      },
      "source": [
        "#creating dataframe\n",
        "len_test = len(new_data[2000::])\n",
        "test_data = pd.DataFrame(index=range(0,len_test),columns=['Date', 'Close'])\n",
        "for i in range(0,len_test):\n",
        "    test_data['Date'][i] = new_data['Date'][i+2000]\n",
        "    test_data['Close'][i] = new_data['Close'][i+2000]\n",
        "test_data.tail()"
      ],
      "execution_count": 13,
      "outputs": [
        {
          "output_type": "execute_result",
          "data": {
            "text/html": [
              "<div>\n",
              "<style scoped>\n",
              "    .dataframe tbody tr th:only-of-type {\n",
              "        vertical-align: middle;\n",
              "    }\n",
              "\n",
              "    .dataframe tbody tr th {\n",
              "        vertical-align: top;\n",
              "    }\n",
              "\n",
              "    .dataframe thead th {\n",
              "        text-align: right;\n",
              "    }\n",
              "</style>\n",
              "<table border=\"1\" class=\"dataframe\">\n",
              "  <thead>\n",
              "    <tr style=\"text-align: right;\">\n",
              "      <th></th>\n",
              "      <th>Date</th>\n",
              "      <th>Close</th>\n",
              "    </tr>\n",
              "  </thead>\n",
              "  <tbody>\n",
              "    <tr>\n",
              "      <th>636</th>\n",
              "      <td>2020-07-06 00:00:00</td>\n",
              "      <td>1495.7</td>\n",
              "    </tr>\n",
              "    <tr>\n",
              "      <th>637</th>\n",
              "      <td>2020-07-07 00:00:00</td>\n",
              "      <td>1485.18</td>\n",
              "    </tr>\n",
              "    <tr>\n",
              "      <th>638</th>\n",
              "      <td>2020-07-08 00:00:00</td>\n",
              "      <td>1496</td>\n",
              "    </tr>\n",
              "    <tr>\n",
              "      <th>639</th>\n",
              "      <td>2020-07-09 00:00:00</td>\n",
              "      <td>1510.99</td>\n",
              "    </tr>\n",
              "    <tr>\n",
              "      <th>640</th>\n",
              "      <td>2020-07-10 00:00:00</td>\n",
              "      <td>1541.74</td>\n",
              "    </tr>\n",
              "  </tbody>\n",
              "</table>\n",
              "</div>"
            ],
            "text/plain": [
              "                    Date    Close\n",
              "636  2020-07-06 00:00:00   1495.7\n",
              "637  2020-07-07 00:00:00  1485.18\n",
              "638  2020-07-08 00:00:00     1496\n",
              "639  2020-07-09 00:00:00  1510.99\n",
              "640  2020-07-10 00:00:00  1541.74"
            ]
          },
          "metadata": {
            "tags": []
          },
          "execution_count": 13
        }
      ]
    },
    {
      "cell_type": "code",
      "metadata": {
        "id": "aRTTG2vPN37f",
        "colab_type": "code",
        "colab": {}
      },
      "source": [
        "start_dataset = pd.Timestamp(\"2010-01-13 00:00:00\")\n",
        "end_training = pd.Timestamp(\"2017-12-20 00:00:00\")\n",
        "end_testing = pd.Timestamp(\"2020-07-10 00:00:00\")"
      ],
      "execution_count": 14,
      "outputs": []
    },
    {
      "cell_type": "code",
      "metadata": {
        "id": "cQkojFY9EJyW",
        "colab_type": "code",
        "colab": {}
      },
      "source": [
        "training_data = [\n",
        "    {\n",
        "        \"start\": str(start_dataset),\n",
        "        \"target\": train_data['Close'].tolist()\n",
        "    }\n",
        "]"
      ],
      "execution_count": 15,
      "outputs": []
    },
    {
      "cell_type": "code",
      "metadata": {
        "id": "nrhGSD-qkESW",
        "colab_type": "code",
        "colab": {}
      },
      "source": [
        "#print((training_data))"
      ],
      "execution_count": 16,
      "outputs": []
    },
    {
      "cell_type": "code",
      "metadata": {
        "id": "6vLhhqVIlsrt",
        "colab_type": "code",
        "colab": {}
      },
      "source": [
        "#train_data['Date']"
      ],
      "execution_count": 17,
      "outputs": []
    },
    {
      "cell_type": "code",
      "metadata": {
        "id": "GjpuZqv3ryAF",
        "colab_type": "code",
        "colab": {}
      },
      "source": [
        "testing_data = [\n",
        "    {\n",
        "        \"start\": str(end_training),\n",
        "        \"target\": test_data['Close'].tolist()\n",
        "    }\n",
        "]"
      ],
      "execution_count": 18,
      "outputs": []
    },
    {
      "cell_type": "code",
      "metadata": {
        "id": "xNLD50AYscGt",
        "colab_type": "code",
        "colab": {}
      },
      "source": [
        "#print((testing_data))"
      ],
      "execution_count": 19,
      "outputs": []
    },
    {
      "cell_type": "markdown",
      "metadata": {
        "id": "oigVDLm8EFAN",
        "colab_type": "text"
      },
      "source": [
        "# Preperation of Training and Testing Data Files"
      ]
    },
    {
      "cell_type": "code",
      "metadata": {
        "id": "WJgBmcRILeYq",
        "colab_type": "code",
        "colab": {}
      },
      "source": [
        "def write_dicts_to_file(path, data):\n",
        "    with open(path, 'wb') as fp:\n",
        "        for d in data:\n",
        "            fp.write(json.dumps(d).encode(\"utf-8\"))\n",
        "            fp.write(\"\\n\".encode('utf-8'))"
      ],
      "execution_count": 20,
      "outputs": []
    },
    {
      "cell_type": "code",
      "metadata": {
        "id": "QpV2T4z4LeYu",
        "colab_type": "code",
        "colab": {}
      },
      "source": [
        "write_dicts_to_file(\"/content/drive/My Drive/AICamp/DL/TimeSeries/Data/stock_train.json\", training_data)\n",
        "write_dicts_to_file(\"/content/drive/My Drive/AICamp/DL/TimeSeries/Data/stock_test.json\", testing_data)"
      ],
      "execution_count": 21,
      "outputs": []
    },
    {
      "cell_type": "markdown",
      "metadata": {
        "id": "ZufSKtGpePNN",
        "colab_type": "text"
      },
      "source": [
        "# Hyperparameters\n",
        "![alt text](https://drive.google.com/uc?export=view&id=1AS66Y0h-glRx_jMu-z_xKpBljgxtJmKE)\n"
      ]
    },
    {
      "cell_type": "markdown",
      "metadata": {
        "id": "5AP_T931gSEm",
        "colab_type": "text"
      },
      "source": [
        "# Metrics\n",
        "![alt text](https://drive.google.com/uc?export=view&id=1-aVCT8k5UBzObKdT5QKRVS1oKN6Y4KnX)"
      ]
    },
    {
      "cell_type": "markdown",
      "metadata": {
        "id": "h10U_P7Zfi3v",
        "colab_type": "text"
      },
      "source": [
        "# Lambda\n",
        "![alt text](https://drive.google.com/uc?export=view&id=1ZTvMG6K8OtZpaDWIeblsA7gN3aTp5gjt)"
      ]
    },
    {
      "cell_type": "markdown",
      "metadata": {
        "id": "sI7ACI8tg8uq",
        "colab_type": "text"
      },
      "source": [
        "# Postman\n",
        "![alt text](https://drive.google.com/uc?export=view&id=1sJHWAk2ZkCqKmQov0qof6eP4t6aZPXKF)"
      ]
    },
    {
      "cell_type": "markdown",
      "metadata": {
        "id": "ajNs-_FXTKL8",
        "colab_type": "text"
      },
      "source": [
        "# Result Verification\n",
        "### (test resuls are taken from different programme)\n"
      ]
    },
    {
      "cell_type": "code",
      "metadata": {
        "id": "VXC78nEnTU83",
        "colab_type": "code",
        "colab": {}
      },
      "source": [
        "import requests\n",
        "import json\n",
        "def get_prediction(data):\n",
        "    url = 'https://mng9vecu3b.execute-api.us-east-1.amazonaws.com/AICamp-Timeseries-3A/aicamp-timeseries-3a'\n",
        "    r = requests.post(url, data=json.dumps(data))\n",
        "    response = getattr(r,'_content').decode(\"utf-8\")\n",
        "    #print(response)\n",
        "    return response"
      ],
      "execution_count": 28,
      "outputs": []
    },
    {
      "cell_type": "code",
      "metadata": {
        "id": "-dTixJmpTmwz",
        "colab_type": "code",
        "colab": {}
      },
      "source": [
        "predictions = []\n",
        "for a in range(0,10):\n",
        "    test_sample = {}\n",
        "    test_sample = {\"instances\": [testing_data.copy()]}\n",
        "    test_sample[\"instances\"][\"target\"] = testing_data[\"target\"][a:a+100]\n",
        "    test_sample[\"configuration\"] =  {\"output_types\": [\"mean\",\n",
        "                                                      \"quantiles\"\n",
        "                                                     ],\n",
        "                                     \"quantiles\": [\"0.1\",\n",
        "                                                   \"0.9\"\n",
        "                                                  ]\n",
        "                                    }\n",
        "    prediction_sample = json.loads(get_prediction(test_sample))['body']['predictions']['quantiles']['0.9']\n",
        "    predictions.append(prediction_sample)"
      ],
      "execution_count": null,
      "outputs": []
    },
    {
      "cell_type": "code",
      "metadata": {
        "id": "mfl5qHdfJPN5",
        "colab_type": "code",
        "colab": {}
      },
      "source": [
        "import matplotlib.pyplot as plt\n",
        "plt.plot(predictions[9], label=\"predictions\")\n",
        "plt.plot(test_data[house][\"target\"][109:129], label=\"true value\")\n",
        "#plt.xlabel('freq = 2H')\n",
        "plt.xlabel('freq = D')\n",
        "plt.legend(bbox_to_anchor=(1.05, 1), loc='upper left', borderaxespad=0.)\n",
        "plt.show()\n"
      ],
      "execution_count": null,
      "outputs": []
    },
    {
      "cell_type": "markdown",
      "metadata": {
        "id": "WFT9geTAJfKN",
        "colab_type": "text"
      },
      "source": [
        "## The following graph shows that 90% of the generated values are below the value\n",
        "\n",
        "![alt text](https://drive.google.com/uc?export=view&id=17zrbzGeCnyWqimN44uG8amoFcvyxQVlQ)"
      ]
    }
  ]
}